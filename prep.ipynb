{
 "cells": [
  {
   "cell_type": "markdown",
   "id": "6d25e624",
   "metadata": {},
   "source": [
    "# MNIST dataset\n",
    "\n",
    "We'll split MNIST dataset (test) and locate under the directory with label number.\n",
    "\n",
    "file name -> `/<label#>/<offset#>`\n",
    "\n",
    "Pytorch stores MNIST dataset under `./data/MNIST/raw/`"
   ]
  },
  {
   "cell_type": "code",
   "execution_count": 35,
   "id": "ca1877a1",
   "metadata": {},
   "outputs": [],
   "source": [
    "#|export\n",
    "import os\n",
    "import torchvision"
   ]
  },
  {
   "cell_type": "code",
   "execution_count": 30,
   "id": "2e4eaa39",
   "metadata": {},
   "outputs": [
    {
     "data": {
      "text/plain": [
       "Dataset MNIST\n",
       "    Number of datapoints: 10000\n",
       "    Root location: ./data\n",
       "    Split: Test"
      ]
     },
     "execution_count": 30,
     "metadata": {},
     "output_type": "execute_result"
    }
   ],
   "source": [
    "#|export\n",
    "torchvision.datasets.MNIST(root='./data', train=False, download=True)"
   ]
  },
  {
   "cell_type": "code",
   "execution_count": 31,
   "id": "599c3560",
   "metadata": {},
   "outputs": [
    {
     "data": {
      "text/plain": [
       "['t10k-images-idx3-ubyte',\n",
       " 't10k-labels-idx1-ubyte',\n",
       " 'train-images-idx3-ubyte',\n",
       " 't10k-images-idx3-ubyte.gz',\n",
       " 'train-images-idx3-ubyte.gz',\n",
       " 'train-labels-idx1-ubyte.gz',\n",
       " 'train-labels-idx1-ubyte',\n",
       " 't10k-labels-idx1-ubyte.gz']"
      ]
     },
     "execution_count": 31,
     "metadata": {},
     "output_type": "execute_result"
    }
   ],
   "source": [
    "#|export\n",
    "base_path = './data/MNIST/raw/'\n",
    "os.listdir(base_path)"
   ]
  },
  {
   "cell_type": "code",
   "execution_count": 32,
   "id": "6b7ac842",
   "metadata": {},
   "outputs": [
    {
     "name": "stdout",
     "output_type": "stream",
     "text": [
      "10008\n"
     ]
    },
    {
     "data": {
      "text/plain": [
       "(10008, [0, 0, 8, 1, 0, 0, 39, 16, 7, 2, 1, 0])"
      ]
     },
     "execution_count": 32,
     "metadata": {},
     "output_type": "execute_result"
    }
   ],
   "source": [
    "#|export\n",
    "path = os.path.join(base_path, 't10k-labels-idx1-ubyte')\n",
    "print(os.stat(path).st_size)\n",
    "with open(path, 'rb') as f:\n",
    "    labels = list(f.read())\n",
    "\n",
    "len(labels), labels[:12]"
   ]
  },
  {
   "cell_type": "code",
   "execution_count": 33,
   "id": "aa54697f",
   "metadata": {},
   "outputs": [
    {
     "data": {
      "text/plain": [
       "['0', '1', '2', '3', '4', '5', '6', '7', '8', '9']"
      ]
     },
     "execution_count": 33,
     "metadata": {},
     "output_type": "execute_result"
    }
   ],
   "source": [
    "#|export\n",
    "path = os.path.join('./data/MNIST', 'sorted')\n",
    "os.makedirs(path, exist_ok=True)\n",
    "for i in range(10):\n",
    "    p = os.path.join(path, str(i))\n",
    "    os.makedirs(p, exist_ok=True)\n",
    "sorted(os.listdir(path))"
   ]
  },
  {
   "cell_type": "code",
   "execution_count": 34,
   "id": "e453acb0",
   "metadata": {},
   "outputs": [
    {
     "data": {
      "text/plain": [
       "[(0, 7), (1, 2), (2, 1), (3, 0), (4, 4), (5, 1), (6, 4), (7, 9), (8, 5)]"
      ]
     },
     "execution_count": 34,
     "metadata": {},
     "output_type": "execute_result"
    }
   ],
   "source": [
    "#|export\n",
    "labels = labels[8:]\n",
    "labels = [(i, l) for i, l in enumerate(labels)]\n",
    "labels[:9]"
   ]
  },
  {
   "cell_type": "code",
   "execution_count": 36,
   "id": "2a0eacb1",
   "metadata": {},
   "outputs": [],
   "source": [
    "import numpy\n",
    "import matplotlib.pyplot as plt\n",
    "def show_image(x):\n",
    "    x = numpy.array(list(x)).reshape(28,28)\n",
    "    plt.imshow(x)"
   ]
  },
  {
   "cell_type": "code",
   "execution_count": 37,
   "id": "bfca4e38",
   "metadata": {},
   "outputs": [],
   "source": [
    "#|export\n",
    "with open('./data/MNIST/raw/t10k-images-idx3-ubyte', 'rb') as f1:\n",
    "    for i, l in labels:\n",
    "        path = os.path.join('./data/MNIST/sorted', str(l), str(i))\n",
    "        with open(path, 'wb') as f2:\n",
    "            f1.seek(16+28*28*i, 0)\n",
    "            x = f1.read(28*28)\n",
    "            #show_image(x)\n",
    "            f2.write(x)\n",
    "            #break"
   ]
  },
  {
   "cell_type": "markdown",
   "id": "ac632391",
   "metadata": {},
   "source": [
    "Each image file is stored as below:\n",
    "`./data/MNIST/sorted/<label#>/<offset#>`\n",
    "\n",
    "You can take a label information from the path"
   ]
  },
  {
   "cell_type": "code",
   "execution_count": 26,
   "id": "9781f2e1",
   "metadata": {},
   "outputs": [
    {
     "name": "stdout",
     "output_type": "stream",
     "text": [
      "total 8224\r\n",
      "drwxr-xr-x  1030 harukadoyu  staff  32960 Feb 19 09:40 \u001b[34m.\u001b[m\u001b[m\r\n",
      "drwxr-xr-x    12 harukadoyu  staff    384 Feb 19 09:40 \u001b[34m..\u001b[m\u001b[m\r\n",
      "-rw-r--r--     1 harukadoyu  staff    784 Feb 19 14:28 0\r\n",
      "-rw-r--r--     1 harukadoyu  staff    784 Feb 19 14:28 1006\r\n",
      "-rw-r--r--     1 harukadoyu  staff    784 Feb 19 14:28 1012\r\n",
      "-rw-r--r--     1 harukadoyu  staff    784 Feb 19 14:28 1021\r\n",
      "-rw-r--r--     1 harukadoyu  staff    784 Feb 19 14:28 1039\r\n",
      "-rw-r--r--     1 harukadoyu  staff    784 Feb 19 14:28 1055\r\n",
      "-rw-r--r--     1 harukadoyu  staff    784 Feb 19 14:28 1071\r\n",
      "ls: stdout: Undefined error: 0\r\n"
     ]
    }
   ],
   "source": [
    "#!find ./data/MNIST/sorted\n",
    "! ls -al ./data/MNIST/sorted/7 | head"
   ]
  },
  {
   "cell_type": "code",
   "execution_count": 27,
   "id": "ef4ed369",
   "metadata": {},
   "outputs": [
    {
     "data": {
      "image/png": "[encoded data removed]",
      "text/plain": [
       "<Figure size 640x480 with 1 Axes>"
      ]
     },
     "metadata": {},
     "output_type": "display_data"
    }
   ],
   "source": [
    "path = \"data/MNIST/sorted/7/0\"\n",
    "with open(path, 'rb') as f:\n",
    "    x = list(f.read())\n",
    "    show_image(x)"
   ]
  },
  {
   "cell_type": "code",
   "execution_count": 28,
   "id": "09d356ee",
   "metadata": {},
   "outputs": [
    {
     "data": {
      "image/png": "[encoded data removed]",
      "text/plain": [
       "<Figure size 640x480 with 1 Axes>"
      ]
     },
     "metadata": {},
     "output_type": "display_data"
    }
   ],
   "source": [
    "path = \"data/MNIST/sorted/2/1\"\n",
    "with open(path, 'rb') as f:\n",
    "    x = list(f.read())\n",
    "    show_image(x)"
   ]
  },
  {
   "cell_type": "markdown",
   "id": "33cb7049",
   "metadata": {},
   "source": [
    "# Run (Example)"
   ]
  },
  {
   "cell_type": "code",
   "execution_count": null,
   "id": "9ed6a0f5",
   "metadata": {},
   "outputs": [],
   "source": [
    "!file run"
   ]
  },
  {
   "cell_type": "code",
   "execution_count": null,
   "id": "10d7478b",
   "metadata": {},
   "outputs": [],
   "source": [
    "# Shows each score from 0-9 in %.3f format\n",
    "!./run data/MNIST/sorted/7/0"
   ]
  },
  {
   "cell_type": "code",
   "execution_count": null,
   "id": "4af37b1b",
   "metadata": {},
   "outputs": [],
   "source": [
    "# Takes multiple files\n",
    "!./run data/MNIST/sorted/7/0 data/MNIST/sorted/2/1 data/MNIST/sorted/1/2"
   ]
  }
 ],
 "metadata": {
  "kernelspec": {
   "display_name": "Python 3 (ipykernel)",
   "language": "python",
   "name": "python3"
  },
  "language_info": {
   "codemirror_mode": {
    "name": "ipython",
    "version": 3
   },
   "file_extension": ".py",
   "mimetype": "text/x-python",
   "name": "python",
   "nbconvert_exporter": "python",
   "pygments_lexer": "ipython3",
   "version": "3.10.0"
  }
 },
 "nbformat": 4,
 "nbformat_minor": 5
}

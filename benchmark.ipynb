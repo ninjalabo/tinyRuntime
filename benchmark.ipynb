{
 "cells": [
  {
   "cell_type": "code",
   "execution_count": null,
   "id": "6330b25b",
   "metadata": {},
   "outputs": [],
   "source": [
    "#|export\n",
    "import subprocess\n",
    "import os\n",
    "import time\n",
    "import psutil\n",
    "import struct\n",
    "import numpy as np\n",
    "import torch\n",
    "import csv\n",
    "from datetime import datetime\n",
    "import platform\n",
    "\n",
    "from export import export_model, export_modelq8\n",
    "from train import load"
   ]
  },
  {
   "cell_type": "code",
   "execution_count": null,
   "id": "84f57980",
   "metadata": {},
   "outputs": [],
   "source": [
    "#|export\n",
    "def run_c(dir_path, base_command, model_path):\n",
    "    # get file paths of images and their labels\n",
    "    files = []\n",
    "    for label in range(10):\n",
    "        sd_path = os.path.join(dir_path, str(label))\n",
    "        f_paths = [os.path.join(sd_path, file) for file in os.listdir(sd_path)]\n",
    "        files += f_paths\n",
    "\n",
    "    # run C inference\n",
    "    command = [base_command, model_path, *files]\n",
    "    mems = []\n",
    "\n",
    "    start_time = time.time()\n",
    "    process = subprocess.Popen(command, stdout=subprocess.PIPE, stderr=subprocess.PIPE)\n",
    "    proc = psutil.Process(process.pid)\n",
    "    while process.poll() == None:\n",
    "        try:\n",
    "            # `proc.memory_info().rss` returns the physical memory the process has used\n",
    "            mems.append(proc.memory_info().rss / (1024 * 1024)) # append in megabytes\n",
    "            time.sleep(0.1)  # check memory usage every 0.1 second\n",
    "        except psutil.NoSuchProcess: # handle the case where the process ends abruptly\n",
    "            pass\n",
    "    end_time = time.time()\n",
    "\n",
    "    output, _ = process.communicate()\n",
    "    acc = float(output.decode().strip())\n",
    "    dur = end_time - start_time\n",
    "    model_size = os.path.getsize(model_path) / (1024 * 1024)\n",
    "\n",
    "    return acc, dur, model_size, mems\n",
    "\n",
    "\n",
    "def run_python(dir_path, model_path):\n",
    "    command = [\"python\", \"run.py\", model_path, dir_path]\n",
    "    mems = []\n",
    "\n",
    "    start_time = time.time()\n",
    "    process = subprocess.Popen(command, stdout=subprocess.PIPE, stderr=subprocess.PIPE)\n",
    "    proc = psutil.Process(process.pid)\n",
    "    while process.poll() == None:\n",
    "        try:\n",
    "            # `proc.memory_info().rss` returns the physical memory the process has used\n",
    "            mems.append(proc.memory_info().rss / (1024 * 1024)) # append in megabytes\n",
    "            time.sleep(0.1)  # check memory usage every 0.1 second\n",
    "        except psutil.NoSuchProcess: # handle the case where the process ends abruptly\n",
    "            pass\n",
    "    end_time = time.time()\n",
    "\n",
    "    output, _ = process.communicate()\n",
    "    acc = float(output.decode().strip())\n",
    "    dur = end_time - start_time\n",
    "    model_size = os.path.getsize(model_path) / (1024 * 1024)\n",
    "\n",
    "    return acc, dur, model_size, mems"
   ]
  },
  {
   "cell_type": "code",
   "execution_count": null,
   "id": "6d46f98d-4ba2-4303-ad1f-b936484190d2",
   "metadata": {},
   "outputs": [],
   "source": [
    "#|export\n",
    "# Generate model files for tinyRuntime\n",
    "path = \"data\"\n",
    "model = load(\"resnet18\").model\n",
    "export_model(model, \"model.bin\")\n",
    "export_modelq8(model, \"model-q8.bin\")"
   ]
  },
  {
   "cell_type": "code",
   "execution_count": null,
   "id": "64588404-2028-4b46-b1e1-1886f4e52fc2",
   "metadata": {},
   "outputs": [],
   "source": [
    "# NOTE: rerunning decrease memory usage in notebook, Python possible use previously allocated memory\n",
    "res0 = run_python(path, \"model.pkl\")\n",
    "res0[:3]"
   ]
  },
  {
   "cell_type": "code",
   "execution_count": null,
   "id": "3ae643b6",
   "metadata": {},
   "outputs": [],
   "source": [
    "res1 = run_c(path, \"./run\", \"model.bin\")\n",
    "res1[:3]"
   ]
  },
  {
   "cell_type": "code",
   "execution_count": null,
   "id": "256adb54",
   "metadata": {
    "scrolled": true
   },
   "outputs": [],
   "source": [
    "res2 = run_c(path, \"./runq\", \"model-q8.bin\")\n",
    "res2[:3]"
   ]
  },
  {
   "cell_type": "code",
   "execution_count": null,
   "id": "93ee9188-efd8-416d-8b73-c0f87f7a1c38",
   "metadata": {},
   "outputs": [],
   "source": [
    "import matplotlib.pyplot as plt\n",
    "\n",
    "fig, ax = plt.subplots(1, 3, figsize=(10, 4))\n",
    "ax[0].plot(res0[3])\n",
    "ax[1].plot(res1[3])\n",
    "ax[2].plot(res2[3])"
   ]
  },
  {
   "cell_type": "code",
   "execution_count": null,
   "id": "2ec3bc88",
   "metadata": {},
   "outputs": [],
   "source": [
    "#|export\n",
    "def save_benchmark_csv():\n",
    "    # Get results\n",
    "    commit_id = os.getenv('GITHUB_SHA')\n",
    "    time = datetime.now().strftime('%Y-%m-%d %H:%M:%S')\n",
    "    architecture = platform.machine()\n",
    "    res0 = run_python(path, \"model.pkl\")\n",
    "    res1 = run_c(path, \"./run\", \"model.bin\")\n",
    "    res2 = run_c(path, \"./runq\", \"model-q8.bin\")\n",
    "\n",
    "    def generate_dict(res, runtime, quantization=False):\n",
    "        d = {\"Commit\": commit_id, \"Datetime\": time, \"Architecture\": architecture, \"Runtime\": runtime,\n",
    "             \"Quantization\": quantization, \"Accuracy\": res[0], \"Time\": res[1], \"Model size\": res[2],\n",
    "             \"Max memory\": np.max(res[3])}\n",
    "        return d\n",
    "\n",
    "    data = [generate_dict(res0, \"PyTorch\"), generate_dict(res1, \"tinyRuntime\"),\n",
    "            generate_dict(res2, \"tinyRuntime\", quantization=True)]\n",
    "\n",
    "    # Write results\n",
    "    csv_file = \"benchmark.csv\"\n",
    "    with open(csv_file, 'a', newline='') as f:\n",
    "        writer = csv.DictWriter(f, fieldnames=data[0].keys())\n",
    "        # If the file is empty, write header\n",
    "        if f.tell() == 0:\n",
    "            writer.writeheader()\n",
    "        for row in data:\n",
    "            writer.writerow(row)\n",
    "\n",
    "    print(f'Data has been appended to {csv_file}.')\n",
    "\n",
    "save_benchmark_csv()"
   ]
  },
  {
   "cell_type": "code",
   "execution_count": null,
   "id": "350ce1b1",
   "metadata": {},
   "outputs": [],
   "source": []
  }
 ],
 "metadata": {
  "kernelspec": {
   "display_name": "Python 3 (ipykernel)",
   "language": "python",
   "name": "python3"
  },
  "language_info": {
   "codemirror_mode": {
    "name": "ipython",
    "version": 3
   },
   "file_extension": ".py",
   "mimetype": "text/x-python",
   "name": "python",
   "nbconvert_exporter": "python",
   "pygments_lexer": "ipython3",
   "version": "3.11.9"
  }
 },
 "nbformat": 4,
 "nbformat_minor": 5
}

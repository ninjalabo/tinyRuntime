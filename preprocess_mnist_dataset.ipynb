{
 "cells": [
  {
   "cell_type": "markdown",
   "id": "6d25e624",
   "metadata": {},
   "source": [
    "# MNIST dataset\n",
    "\n",
    "We'll split MNIST dataset (test) and locate under the directory with label number.\n",
    "\n",
    "file name -> `/<label#>/<offset#>`\n",
    "\n",
    "Pytorch stores MNIST dataset under `./data/MNIST/raw/`"
   ]
  },
  {
   "cell_type": "code",
   "execution_count": 32,
   "id": "ca1877a1",
   "metadata": {},
   "outputs": [],
   "source": [
    "import os\n",
    "import struct"
   ]
  },
  {
   "cell_type": "code",
   "execution_count": 20,
   "id": "599c3560",
   "metadata": {},
   "outputs": [
    {
     "data": {
      "text/plain": [
       "['sorted', 'raw']"
      ]
     },
     "execution_count": 20,
     "metadata": {},
     "output_type": "execute_result"
    }
   ],
   "source": [
    "base_path = './data/MNIST'\n",
    "os.listdir(base_path)"
   ]
  },
  {
   "cell_type": "code",
   "execution_count": 21,
   "id": "6b7ac842",
   "metadata": {},
   "outputs": [
    {
     "name": "stdout",
     "output_type": "stream",
     "text": [
      "10008\n"
     ]
    },
    {
     "data": {
      "text/plain": [
       "10008"
      ]
     },
     "execution_count": 21,
     "metadata": {},
     "output_type": "execute_result"
    }
   ],
   "source": [
    "path = os.path.join(base_path, 'raw', 't10k-labels-idx1-ubyte')\n",
    "print(os.stat(path).st_size)\n",
    "with open(path, 'rb') as f:\n",
    "    labels = list(f.read())\n",
    "\n",
    "len(labels)"
   ]
  },
  {
   "cell_type": "code",
   "execution_count": 22,
   "id": "aa54697f",
   "metadata": {},
   "outputs": [
    {
     "data": {
      "text/plain": [
       "['0', '1', '2', '3', '4', '5', '6', '7', '8', '9']"
      ]
     },
     "execution_count": 22,
     "metadata": {},
     "output_type": "execute_result"
    }
   ],
   "source": [
    "path = os.path.join(base_path, 'sorted')\n",
    "os.makedirs(path, exist_ok=True)\n",
    "for i in range(10):\n",
    "    p = os.path.join(path, str(i))\n",
    "    os.makedirs(p, exist_ok=True)\n",
    "sorted(os.listdir(path))"
   ]
  },
  {
   "cell_type": "code",
   "execution_count": 23,
   "id": "e453acb0",
   "metadata": {},
   "outputs": [
    {
     "data": {
      "text/plain": [
       "[(0, 7), (1, 2), (2, 1), (3, 0), (4, 4), (5, 1), (6, 4), (7, 9), (8, 5)]"
      ]
     },
     "execution_count": 23,
     "metadata": {},
     "output_type": "execute_result"
    }
   ],
   "source": [
    "labels = labels[8:]\n",
    "labels = [(i, l) for i, l in enumerate(labels)]\n",
    "labels[:9]"
   ]
  },
  {
   "cell_type": "code",
   "execution_count": 38,
   "id": "bfca4e38",
   "metadata": {},
   "outputs": [],
   "source": [
    "with open('./data/MNIST/raw/t10k-images-idx3-ubyte', 'rb') as f1:\n",
    "    f1.seek(16, 0)\n",
    "    for i, l in labels:\n",
    "        path = os.path.join('./data/MNIST/sorted', str(l), str(i))\n",
    "        with open(path, 'wb') as f2:\n",
    "            f1.seek(16+28*28*i, 0)\n",
    "            f2.write(f1.read(28*28))"
   ]
  },
  {
   "cell_type": "markdown",
   "id": "ac632391",
   "metadata": {},
   "source": [
    "Each image file is stored as below:\n",
    "`./data/MNIST/sorted/<label#>/<offset#>`\n",
    "\n",
    "You can take a label information from the path"
   ]
  },
  {
   "cell_type": "code",
   "execution_count": 28,
   "id": "9781f2e1",
   "metadata": {},
   "outputs": [
    {
     "name": "stdout",
     "output_type": "stream",
     "text": [
      "total 160\n",
      "drwxr-xr-x  1030 harukadoyu  staff  32960 Feb 14 09:46 \u001b[34m.\u001b[m\u001b[m\n",
      "drwxr-xr-x    12 harukadoyu  staff    384 Feb 14 09:46 \u001b[34m..\u001b[m\u001b[m\n",
      "-rw-r--r--     1 harukadoyu  staff    784 Feb 14 15:28 0\n",
      "-rw-r--r--     1 harukadoyu  staff      0 Feb 14 15:28 1006\n",
      "-rw-r--r--     1 harukadoyu  staff      0 Feb 14 15:28 1012\n",
      "-rw-r--r--     1 harukadoyu  staff      0 Feb 14 15:28 1021\n",
      "-rw-r--r--     1 harukadoyu  staff      0 Feb 14 15:28 1039\n",
      "-rw-r--r--     1 harukadoyu  staff      0 Feb 14 15:28 1055\n",
      "-rw-r--r--     1 harukadoyu  staff      0 Feb 14 15:28 1071\n",
      "ls: stdout: Undefined error: 0\n"
     ]
    }
   ],
   "source": [
    "#!find ./data/MNIST/sorted\n",
    "! ls -al ./data/MNIST/sorted/7 | head"
   ]
  },
  {
   "cell_type": "code",
   "execution_count": null,
   "id": "57c56920",
   "metadata": {},
   "outputs": [],
   "source": []
  }
 ],
 "metadata": {
  "kernelspec": {
   "display_name": "Python 3 (ipykernel)",
   "language": "python",
   "name": "python3"
  },
  "language_info": {
   "codemirror_mode": {
    "name": "ipython",
    "version": 3
   },
   "file_extension": ".py",
   "mimetype": "text/x-python",
   "name": "python",
   "nbconvert_exporter": "python",
   "pygments_lexer": "ipython3",
   "version": "3.10.0"
  }
 },
 "nbformat": 4,
 "nbformat_minor": 5
}

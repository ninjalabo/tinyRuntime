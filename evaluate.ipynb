{
 "cells": [
  {
   "cell_type": "code",
   "execution_count": 1,
   "id": "6330b25b",
   "metadata": {},
   "outputs": [],
   "source": [
    "#|export\n",
    "import subprocess\n",
    "import numpy as np\n",
    "import os\n",
    "import itertools\n",
    "import sys"
   ]
  },
  {
   "cell_type": "code",
   "execution_count": 2,
   "id": "84f57980",
   "metadata": {},
   "outputs": [],
   "source": [
    "#|export\n",
    "def calculate_accuracy(model, quantized=False):\n",
    "    fe = open('err.txt', mode='wb')\n",
    "    fo = open('stdout.txt', mode='wb')\n",
    "    \n",
    "    if quantized:\n",
    "        base_command = [\"./runq\", model]\n",
    "    else:\n",
    "        base_command = [\"./run\", model]\n",
    "    \n",
    "    base_path = \"data/MNIST/sorted\"\n",
    "    label_count = np.zeros(10, dtype=int)\n",
    "    for label in range(10):\n",
    "        dir_path = os.path.join(base_path, str(label))\n",
    "        for root, _, files in os.walk(dir_path):\n",
    "            command = base_command + [os.path.join(root, file) for file in files]\n",
    "            proc = subprocess.Popen(command, stdout=fo, stderr=fe)\n",
    "            proc.wait()\n",
    "            label_count[label] = len(files)\n",
    "    \n",
    "    fe.close()\n",
    "    fo.close()\n",
    "    \n",
    "    labels = np.array(list(itertools.chain(*[[i]*label_count[i] for i in range(10)])))\n",
    "    assert len(labels)==10000 # MNIST test set has size 10000\n",
    "    probs = np.loadtxt(\"stdout.txt\")\n",
    "    preds = np.argmax(probs, axis=1)\n",
    "    \n",
    "    return np.mean(preds==labels)"
   ]
  },
  {
   "cell_type": "code",
   "execution_count": null,
   "id": "c74cb611",
   "metadata": {},
   "outputs": [],
   "source": []
  }
 ],
 "metadata": {
  "kernelspec": {
   "display_name": "Python 3 (ipykernel)",
   "language": "python",
   "name": "python3"
  },
  "language_info": {
   "codemirror_mode": {
    "name": "ipython",
    "version": 3
   },
   "file_extension": ".py",
   "mimetype": "text/x-python",
   "name": "python",
   "nbconvert_exporter": "python",
   "pygments_lexer": "ipython3",
   "version": "3.11.6"
  }
 },
 "nbformat": 4,
 "nbformat_minor": 5
}

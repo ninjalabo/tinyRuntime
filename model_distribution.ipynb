{
 "cells": [
  {
   "cell_type": "code",
   "execution_count": 11,
   "metadata": {},
   "outputs": [],
   "source": [
    "#|export\n",
    "import torch\n",
    "import numpy as np\n",
    "import matplotlib.pyplot as plt\n",
    "from scipy.stats import skew, kurtosis"
   ]
  },
  {
   "cell_type": "code",
   "execution_count": 12,
   "metadata": {},
   "outputs": [],
   "source": [
    "#|export\n",
    "def get_channel_data(conv_layer):\n",
    "    \"\"\" this is designed for convolutional layers as the plots and data extraction take the channel dimension into account \"\"\"\n",
    "    weights = conv_layer.weight.data\n",
    "    num_channels = weights.shape[0]\n",
    "    channel_data = [weights[i].cpu().numpy().flatten() for i in range(num_channels)]\n",
    "\n",
    "    return channel_data\n",
    "\n",
    "def get_variance(data):\n",
    "    \"\"\" compute the iqr values, the boxplot does these when plotting as well \"\"\"\n",
    "    iqr_values = []\n",
    "    lower_boundaries = []\n",
    "    upper_boundaries = []\n",
    "\n",
    "    for channel_weights in data:\n",
    "        # calculate the quartiles\n",
    "        Q1 = np.percentile(channel_weights, 25)\n",
    "        Q3 = np.percentile(channel_weights, 75)\n",
    "        iqr = Q3 - Q1\n",
    "        \n",
    "        # calculate the whisker boundaries\n",
    "        lower_bound = Q1 - 1.5 * iqr\n",
    "        upper_bound = Q3 + 1.5 * iqr\n",
    "        \n",
    "        iqr_values.append(iqr)\n",
    "        lower_boundaries.append(lower_bound)\n",
    "        upper_boundaries.append(upper_bound)\n",
    "    iqr_values = np.array(iqr_values)\n",
    "    lower_boundaries = np.array(lower_boundaries)\n",
    "    upper_boundaries = np.array(upper_boundaries)\n",
    "\n",
    "    # calculate the variance of the lower and upper boundaries\n",
    "    lower_boundary_variance = np.var(lower_boundaries)\n",
    "    upper_boundary_variance = np.var(upper_boundaries)\n",
    "\n",
    "    return lower_boundary_variance, upper_boundary_variance\n",
    "    \n",
    "\n",
    "def get_distribution(weights):\n",
    "    \"\"\" compute the skewness and kurtosis values \"\"\"\n",
    "    mean = np.mean(weights)\n",
    "    std = np.std(weights)\n",
    "    skewness = skew(weights)\n",
    "    kurt = kurtosis(weights)\n",
    "    \n",
    "    return mean, std, skewness, kurt\n",
    "\n",
    "def plot_histogram(weights):\n",
    "    \"\"\" plot histogram of the weights \"\"\"\n",
    "    plt.hist(weights, bins=50, color='blue', alpha=0.7)\n",
    "    plt.title('Weight Distribution Histogram')\n",
    "    plt.xlabel('Weight Value')\n",
    "    plt.ylabel('Frequency')\n",
    "    plt.show()\n",
    "\n",
    "def plot_weight_boxplot(data):\n",
    "    fig, ax = plt.subplots(figsize=(10, 6))\n",
    "    bp = ax.boxplot(data, patch_artist=True)\n",
    "    \n",
    "        \n",
    "    plt.xlabel('Output Channel Index')\n",
    "    plt.xticks(range(1, len(data) + 1), rotation=45, fontsize=8)\n",
    "    plt.ylabel('Weight Range')\n",
    "    plt.title('Original Weight Ranges')\n",
    "    plt.grid(True)\n",
    "    plt.show()"
   ]
  },
  {
   "cell_type": "code",
   "execution_count": 13,
   "metadata": {},
   "outputs": [],
   "source": [
    "#|export\n",
    "def plot_layers(model, visualize=False):\n",
    "  conv_layers = [layer for layer in model.modules() if isinstance(layer, torch.nn.Conv2d)]\n",
    "\n",
    "  for layer in conv_layers:\n",
    "      data = get_channel_data(layer)\n",
    "      lower_var, upper_var = get_variance(data)\n",
    "      all_weights = np.array(data).flatten()\n",
    "      mean, std, skewness, kurt = get_distribution(all_weights)\n",
    "      print(f'Layer: {layer}')\n",
    "      print(f'Lower Bound Variance: {lower_var}')\n",
    "      print(f'Upper Bound Variance: {upper_var}')\n",
    "      print(f'Mean: {mean}')\n",
    "      print(f'Standard Deviation: {std}')\n",
    "      # kurtosis indicates the heaviness of the tails of the distribution, more outliers with higher kurtosis\n",
    "      # skewness indicates the asymmetry of the distribution, positive right skewed, negative left skewed\n",
    "      # low skewness and kurtosis values are good for per layer quantization\n",
    "      \n",
    "      print(f'Skewness: {skewness}')\n",
    "      print(f'Kurtosis: {kurt}')\n",
    "      print('---------------------------------')\n",
    "      if visualize:\n",
    "          #plot_histogram(all_weights)\n",
    "          plot_weight_boxplot(data)"
   ]
  },
  {
   "cell_type": "code",
   "execution_count": 14,
   "metadata": {},
   "outputs": [
    {
     "name": "stdout",
     "output_type": "stream",
     "text": [
      "Layer: Conv2d(1, 4, kernel_size=(3, 3), stride=(1, 1), padding=(1, 1))\n",
      "Lower Bound Variance: 0.28811167240211666\n",
      "Upper Bound Variance: 0.49566433535902177\n",
      "Mean: -0.1035236269235611\n",
      "Standard Deviation: 0.31365475058555603\n",
      "Skewness: 0.509540225646513\n",
      "Kurtosis: -0.783474915615864\n",
      "---------------------------------\n",
      "Layer: Conv2d(4, 8, kernel_size=(3, 3), stride=(1, 1), padding=(1, 1))\n",
      "Lower Bound Variance: 0.008650628691970733\n",
      "Upper Bound Variance: 0.006040862606292306\n",
      "Mean: 0.017239652574062347\n",
      "Standard Deviation: 0.1602303832769394\n",
      "Skewness: 0.30073155080767544\n",
      "Kurtosis: 0.010206895783474224\n",
      "---------------------------------\n"
     ]
    }
   ],
   "source": [
    "model = torch.load('model.pt')\n",
    "plot_layers(model, visualize=False)"
   ]
  },
  {
   "cell_type": "code",
   "execution_count": null,
   "metadata": {},
   "outputs": [],
   "source": []
  }
 ],
 "metadata": {
  "kernelspec": {
   "display_name": "Python 3",
   "language": "python",
   "name": "python3"
  },
  "language_info": {
   "codemirror_mode": {
    "name": "ipython",
    "version": 3
   },
   "file_extension": ".py",
   "mimetype": "text/x-python",
   "name": "python",
   "nbconvert_exporter": "python",
   "pygments_lexer": "ipython3",
   "version": "3.12.2"
  }
 },
 "nbformat": 4,
 "nbformat_minor": 2
}

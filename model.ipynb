{
 "cells": [
  {
   "cell_type": "code",
   "execution_count": null,
   "id": "b73b2ccc",
   "metadata": {},
   "outputs": [],
   "source": [
    "#|export\n",
    "import torch\n",
    "from torch import nn\n",
    "\n",
    "class Model(nn.Module):\n",
    "    def __init__(self, dim=128):\n",
    "        super(Model, self).__init__()\n",
    "        self.dim = dim\n",
    "        self.nclass = 10\n",
    "        self.flatten = nn.Flatten()\n",
    "        self.layers = nn.ModuleList([nn.Linear(28*28, dim), \n",
    "                                    nn.Linear(dim, dim//2)])\n",
    "        self.activation = nn.ReLU()\n",
    "        self.out = nn.Linear(dim//2, self.nclass)\n",
    "        \n",
    "    def forward(self, x):\n",
    "        x = self.flatten(x)\n",
    "        for layer in self.layers:\n",
    "            x = self.activation(layer(x))\n",
    "        x = self.out(x)\n",
    "        return x"
   ]
  },
  {
   "cell_type": "code",
   "execution_count": null,
   "id": "e3e47fbe",
   "metadata": {},
   "outputs": [],
   "source": [
    "model = Model()"
   ]
  },
  {
   "cell_type": "code",
   "execution_count": null,
   "id": "62bf38bb",
   "metadata": {},
   "outputs": [],
   "source": [
    "output = model(torch.rand([1,28,28]))\n",
    "assert output.shape==(1,10)"
   ]
  },
  {
   "cell_type": "code",
   "execution_count": null,
   "id": "dbb854c3",
   "metadata": {},
   "outputs": [],
   "source": []
  }
 ],
 "metadata": {
  "kernelspec": {
   "display_name": "Python 3 (ipykernel)",
   "language": "python",
   "name": "python3"
  },
  "language_info": {
   "codemirror_mode": {
    "name": "ipython",
    "version": 3
   },
   "file_extension": ".py",
   "mimetype": "text/x-python",
   "name": "python",
   "nbconvert_exporter": "python",
   "pygments_lexer": "ipython3",
   "version": "3.10.0"
  }
 },
 "nbformat": 4,
 "nbformat_minor": 5
}

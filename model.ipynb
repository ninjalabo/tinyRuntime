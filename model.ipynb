{
 "cells": [
  {
   "cell_type": "code",
   "execution_count": 1,
   "id": "2a939d4c",
   "metadata": {},
   "outputs": [],
   "source": [
    "#|export\n",
    "import torch.nn as nn\n",
    "import torchvision.models as models\n",
    "from torchvision.models import ResNet18_Weights"
   ]
  },
  {
   "cell_type": "code",
   "execution_count": 2,
   "id": "b73b2ccc",
   "metadata": {},
   "outputs": [],
   "source": [
    "#|export\n",
    "class Model(nn.Module):\n",
    "    def __init__(self, num_classes=10):\n",
    "        super(Model, self).__init__()\n",
    "        self.model = models.resnet18(weights=ResNet18_Weights.IMAGENET1K_V1)\n",
    "        # swap the output layer and freeze all other layers\n",
    "        for p in self.model.parameters():\n",
    "          p.requires_grad = False\n",
    "        self.model.fc = nn.Linear(self.model.fc.in_features, num_classes)\n",
    "        \n",
    "    def forward(self, x):\n",
    "        return self.model(x)"
   ]
  },
  {
   "cell_type": "code",
   "execution_count": 15,
   "id": "62bf38bb",
   "metadata": {},
   "outputs": [
    {
     "name": "stdout",
     "output_type": "stream",
     "text": [
      "torch.Size([1, 10])\n"
     ]
    }
   ],
   "source": [
    "# Tests for the above function(s)\n",
    "import torch\n",
    "\n",
    "model = Model()\n",
    "output = model(torch.rand([1,3,224,224]))\n",
    "print(output.shape)\n",
    "assert output.shape==(1,10)"
   ]
  },
  {
   "cell_type": "code",
   "execution_count": null,
   "id": "75befe30",
   "metadata": {},
   "outputs": [],
   "source": []
  }
 ],
 "metadata": {
  "kernelspec": {
   "display_name": "python3",
   "language": "python",
   "name": "python3"
  },
  "language_info": {
   "codemirror_mode": {
    "name": "ipython",
    "version": 3
   },
   "file_extension": ".py",
   "mimetype": "text/x-python",
   "name": "python",
   "nbconvert_exporter": "python",
   "pygments_lexer": "ipython3",
   "version": "3.12.2"
  }
 },
 "nbformat": 4,
 "nbformat_minor": 5
}

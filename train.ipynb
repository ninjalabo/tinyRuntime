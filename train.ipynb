{
 "cells": [
  {
   "cell_type": "markdown",
   "id": "3cf58a11",
   "metadata": {},
   "source": [
    "# ML model generation"
   ]
  },
  {
   "cell_type": "markdown",
   "id": "ecda487a",
   "metadata": {},
   "source": [
    "This notebook creates and trains a simple fully connected model using MNIST dataset. At the end, the model is exported as `model.bin`."
   ]
  },
  {
   "cell_type": "code",
   "execution_count": 46,
   "id": "4a66b3ef",
   "metadata": {},
   "outputs": [],
   "source": [
    "import numpy as np\n",
    "import torch\n",
    "import torchvision\n",
    "from torchvision import transforms\n",
    "from torch import nn\n",
    "import matplotlib.pyplot as plt\n",
    "import struct"
   ]
  },
  {
   "cell_type": "code",
   "execution_count": 47,
   "id": "83912d25",
   "metadata": {},
   "outputs": [],
   "source": [
    "def generate_dataloader(batch_size=32):\n",
    "    ''' \n",
    "    Generates dataloaders\n",
    "    \n",
    "    Args:\n",
    "        batch_size (int): the number of training instances in the batch\n",
    "    '''\n",
    "    transform = transforms.Compose([transforms.ToTensor(), transforms.Normalize((0.5,), (0.5,))])\n",
    "    \n",
    "    trainset = torchvision.datasets.MNIST(\"./data\", train=True, download=True, transform=transform)\n",
    "    trainloader = torch.utils.data.DataLoader(trainset, batch_size=batch_size, shuffle=True)\n",
    "    \n",
    "    testset = torchvision.datasets.MNIST(\"./data\", train=False, download=True, transform=transform)\n",
    "    testloader = torch.utils.data.DataLoader(testset, batch_size=batch_size, shuffle=False)\n",
    "    \n",
    "    return trainloader, testloader"
   ]
  },
  {
   "cell_type": "code",
   "execution_count": 48,
   "id": "8733d974",
   "metadata": {},
   "outputs": [],
   "source": [
    "def write_activation(tensor):\n",
    "    f = open(\"tmpp.txt\", \"a\")\n",
    "    copy = torch.clone(tensor).detach().cpu().view(-1).numpy()\n",
    "    for x in copy:\n",
    "        f.write(\"{:.6f}\\n\".format(x))\n",
    "    f.close()"
   ]
  },
  {
   "cell_type": "code",
   "execution_count": 58,
   "id": "f63620af",
   "metadata": {},
   "outputs": [],
   "source": [
    "class Model(nn.Module):\n",
    "    def __init__(self):\n",
    "        super(Model, self).__init__()\n",
    "        dim = 128\n",
    "        self.dim = dim\n",
    "        self.nclass = 10\n",
    "        self.flatten = nn.Flatten()\n",
    "        self.layers = nn.ModuleList([nn.Linear(28*28, dim), \n",
    "                                    nn.Linear(dim, dim//2)])\n",
    "        self.activation = nn.ReLU()\n",
    "        self.out = nn.Linear(dim//2, self.nclass)\n",
    "        \n",
    "    def forward(self, x):\n",
    "        x = self.flatten(x)\n",
    "        for layer in self.layers:\n",
    "            x = self.activation(layer(x))\n",
    "        x = self.out(x)\n",
    "        return x"
   ]
  },
  {
   "cell_type": "code",
   "execution_count": 62,
   "id": "b894e2a5",
   "metadata": {},
   "outputs": [],
   "source": [
    "def test_model(model, testloader):\n",
    "    loss_fn = nn.CrossEntropyLoss()\n",
    "    model.eval()\n",
    "    with torch.no_grad():\n",
    "        vloss = 0.\n",
    "        correct = 0.\n",
    "        for X,y in testloader:\n",
    "            out = model(X)\n",
    "            vloss += loss_fn(out, y).item()\n",
    "            correct += (torch.argmax(out, 1)==y).float().mean()\n",
    "    nbatch = len(testloader)\n",
    "    \n",
    "    return vloss/nbatch,  correct/nbatch"
   ]
  },
  {
   "cell_type": "code",
   "execution_count": 64,
   "id": "cbe89d75",
   "metadata": {},
   "outputs": [
    {
     "name": "stdout",
     "output_type": "stream",
     "text": [
      "LOSS train 0.35432283398310344 valid 0.1961194531450542 accuracy 0.93960\n",
      "LOSS train 0.17351606668904423 valid 0.150801445456064 accuracy 0.95268\n",
      "LOSS train 0.12913789734666548 valid 0.11682929868992871 accuracy 0.96366\n"
     ]
    }
   ],
   "source": [
    "def train_model(model):  \n",
    "    # training\n",
    "    loss_fn = nn.CrossEntropyLoss()\n",
    "    opt = torch.optim.AdamW(model.parameters(), lr=0.001)\n",
    "    trainloader, testloader = generate_dataloader()\n",
    "\n",
    "    for epoch in range(3):\n",
    "\n",
    "        model.train()\n",
    "        tloss = 0\n",
    "        for X,y in trainloader:\n",
    "            opt.zero_grad()\n",
    "            out = model(X)\n",
    "            loss = loss_fn(out, y)\n",
    "            loss.backward()\n",
    "            tloss += loss.item()\n",
    "            opt.step()\n",
    "\n",
    "\n",
    "        vloss, correct = test_model(model, testloader)\n",
    "\n",
    "        print('LOSS train {} valid {} accuracy {:.5f}'.format(tloss/len(trainloader), vloss, correct))\n",
    "    return \n",
    "\n",
    "model = Model()\n",
    "train_model(model)"
   ]
  },
  {
   "cell_type": "code",
   "execution_count": 65,
   "id": "39f3c707",
   "metadata": {},
   "outputs": [
    {
     "name": "stdout",
     "output_type": "stream",
     "text": [
      "wrote model.bin\n"
     ]
    }
   ],
   "source": [
    "# export the model\n",
    "def serialize_fp32(file, tensor):\n",
    "    \"\"\" write one fp32 tensor to file that is open in wb mode \"\"\"\n",
    "    d = tensor.detach().cpu().view(-1).to(torch.float32).numpy()\n",
    "    b = struct.pack(f'{len(d)}f', *d)\n",
    "    file.write(b)\n",
    "    \n",
    "def export_model(model, filepath = \"model.bin\"):\n",
    "    ''' export the model to filepath '''\n",
    "    f = open(filepath, \"wb\")\n",
    "    # write the model structure \n",
    "    header = struct.pack(\"ii\", model.dim, model.nclass)\n",
    "    f.write(header) \n",
    "    # write the model weights and biases\n",
    "    weights = [*[layer.weight for layer in model.layers], model.out.weight]\n",
    "    bias = [*[layer.bias for layer in model.layers], model.out.bias]\n",
    "    \n",
    "    for w in weights:\n",
    "        serialize_fp32(f, w)\n",
    "    \n",
    "    for b in bias:\n",
    "        serialize_fp32(f, b)\n",
    "\n",
    "    f.close()\n",
    "    print(f\"wrote {filepath}\")\n",
    "    \n",
    "export_model(model)"
   ]
  },
  {
   "cell_type": "code",
   "execution_count": 66,
   "id": "7211a2a4",
   "metadata": {},
   "outputs": [],
   "source": [
    "def read_model():\n",
    "    ''' read model.bin and assign parameters to the model '''\n",
    "    model = Model()\n",
    "    f = open(\"model.bin\", \"rb\")\n",
    "    inp_size = 28*28\n",
    "    dim = struct.unpack('i', f.read(4))[0]\n",
    "    nclass = struct.unpack('i', f.read(4))[0]\n",
    "    dim2 = dim//2\n",
    "    wi = torch.tensor(struct.unpack('f'*(inp_size*dim), f.read(4*inp_size*dim))).view(dim,inp_size)\n",
    "    wh = torch.tensor(struct.unpack('f'*(dim*dim2), f.read(4*dim*dim2))).view(dim2,dim)\n",
    "    wo = torch.tensor(struct.unpack('f'*(dim2*nclass), f.read(4*dim2*nclass))).view(nclass, dim2)\n",
    "    bi = torch.tensor(struct.unpack('f'*(dim), f.read(4*dim)))\n",
    "    bh = torch.tensor(struct.unpack('f'*(dim2), f.read(4*dim2)))\n",
    "    bo = torch.tensor(struct.unpack('f'*nclass, f.read(4*nclass)))\n",
    "    f.close()\n",
    "    \n",
    "    i = 0\n",
    "    params = [wi, bi, wh, bh, wo, bo]\n",
    "    for p in model.parameters():\n",
    "        p.data = params[i]\n",
    "        i += 1\n",
    "    \n",
    "    return model"
   ]
  },
  {
   "cell_type": "code",
   "execution_count": 88,
   "id": "a3a5a026",
   "metadata": {},
   "outputs": [
    {
     "name": "stdout",
     "output_type": "stream",
     "text": [
      "1/6 quantized (128, 784) to Q8_0 with max error 0.0022385194897651672\n",
      "2/6 quantized (64, 128) to Q8_0 with max error 0.0015271008014678955\n",
      "3/6 quantized (10, 64) to Q8_0 with max error 0.0024034231901168823\n",
      "4/6 quantized (128,) to Q8_0 with max error 0.00021135341376066208\n",
      "5/6 quantized (64,) to Q8_0 with max error 0.0005143210291862488\n",
      "6/6 quantized (10,) to Q8_0 with max error 0.0004063919186592102\n",
      "max quantization group error across all weights: 0.0024034231901168823\n",
      "wrote modelq8.bin\n"
     ]
    }
   ],
   "source": [
    "def serialize_int8(file, tensor):\n",
    "    \"\"\" write one int8 tensor to file that is open in wb mode \"\"\"\n",
    "    d = tensor.detach().cpu().view(-1).numpy().astype(np.int8)\n",
    "    b = struct.pack(f'{len(d)}b', *d)\n",
    "    file.write(b)\n",
    "\n",
    "def quantize_q80(w, group_size):\n",
    "    \"\"\"\n",
    "    takes a tensor and returns the Q8_0 quantized version\n",
    "    i.e. symmetric quantization into int8, range [-127,127]\n",
    "    \"\"\"\n",
    "    assert w.numel() % group_size == 0\n",
    "    ori_shape = w.shape\n",
    "    w = w.float() # convert to float32\n",
    "    w = w.reshape(-1, group_size)\n",
    "    # find the max in each group\n",
    "    wmax = torch.abs(w).max(dim=1).values\n",
    "    # calculate the scaling factor such that float = quant * scale\n",
    "    scale = wmax / 127.0\n",
    "    # scale into range [-127, 127]\n",
    "    quant = w / scale[:,None]\n",
    "    # round to nearest integer\n",
    "    int8val = torch.round(quant).to(torch.int8)\n",
    "    # dequantize by rescaling\n",
    "    fp32val = (int8val.float() * scale[:,None]).view(-1)\n",
    "    fp32valr = fp32val.reshape(-1, group_size)\n",
    "    # calculate the max error in each group\n",
    "    err = torch.abs(fp32valr - w).max(dim=1).values\n",
    "    # find the max error across all groups\n",
    "    maxerr = err.max().item()\n",
    "    return int8val, scale, maxerr\n",
    "\n",
    "def export_modelq8(model=None, filepath=\"modelq8.bin\", gs=64):\n",
    "    ''' read a model from model.bin and export a quatized (int8) model to filepath '''\n",
    "    if model==None:\n",
    "        model = read_model()\n",
    "        \n",
    "    f = open(filepath, \"wb\")\n",
    "    # write the model structure \n",
    "    header = struct.pack(\"iii\", model.dim, model.nclass, gs)\n",
    "    f.write(header) \n",
    "    # quantize and write the model weights and biases\n",
    "    weights = [*[layer.weight for layer in model.layers], model.out.weight]\n",
    "    biases = [*[layer.bias for layer in model.layers], model.out.bias]\n",
    "    params = [*weights, *biases]\n",
    "\n",
    "    ew = []\n",
    "    for i, p in enumerate(params):\n",
    "        if i==len(params)-1:\n",
    "            gs = model.nclass\n",
    "        assert p.numel()%gs==0\n",
    "        # quantize this weight\n",
    "        q, s, err = quantize_q80(p, gs)\n",
    "        # save the int8 weights to file\n",
    "        serialize_int8(f, q) # save the tensor in int8\n",
    "        serialize_fp32(f, s) # save scale factors\n",
    "        # logging\n",
    "        ew.append((err, p.shape))\n",
    "        print(f\"{i+1}/{len(params)} quantized {tuple(p.shape)} to Q8_0 with max error {err}\")\n",
    "\n",
    "    # print the highest error across all parameters, should be very small, e.g. O(~0.001)\n",
    "    ew.sort(reverse=True)\n",
    "    print(f\"max quantization group error across all weights: {ew[0][0]}\")\n",
    "    f.close()\n",
    "    print(f\"wrote {filepath}\")\n",
    "\n",
    "export_modelq8()"
   ]
  },
  {
   "cell_type": "code",
   "execution_count": 69,
   "id": "563566ca",
   "metadata": {},
   "outputs": [],
   "source": [
    "def write_weights():\n",
    "    ''' write the model parameters to check if \"model.bin\" is written correctly '''\n",
    "\n",
    "    f = open(\"model.bin\", \"rb\")\n",
    "    inp_size = 28*28\n",
    "    dim = struct.unpack('i', f.read(4))[0]\n",
    "    nclass = struct.unpack('i', f.read(4))[0]\n",
    "    dim2 = dim//2\n",
    "    wi = torch.tensor(struct.unpack('f'*(inp_size*dim), f.read(4*inp_size*dim))).view(dim,inp_size)\n",
    "    wh = torch.tensor(struct.unpack('f'*(dim*dim2), f.read(4*dim*dim2))).view(dim2,dim)\n",
    "    wo = torch.tensor(struct.unpack('f'*(dim2*nclass), f.read(4*dim2*nclass))).view(nclass, dim2)\n",
    "    bi = torch.tensor(struct.unpack('f'*(dim), f.read(4*dim)))\n",
    "    bh = torch.tensor(struct.unpack('f'*(dim2), f.read(4*dim2)))\n",
    "    bo = torch.tensor(struct.unpack('f'*nclass, f.read(4*nclass)))\n",
    "    f.close()\n",
    "    \n",
    "    f = open(\"weightsp.txt\", \"w\")\n",
    "    weights = [*wi, *wh, *wo, *bi, *bh, *bo]\n",
    "    for w in weights:\n",
    "        f.write(\"{:.12f}\\n\".format(w))\n",
    "    f.close()"
   ]
  },
  {
   "cell_type": "code",
   "execution_count": 70,
   "id": "257b953a",
   "metadata": {},
   "outputs": [],
   "source": [
    "def write_output():\n",
    "    ''' write model outputs to compare these to model outputs in C '''\n",
    "    \n",
    "    model = read_model()\n",
    "    _, testloader = generate_dataloader()\n",
    "\n",
    "    f = open(\"outputp.txt\", \"w\")\n",
    "    for X,y in testloader:\n",
    "        outputs = torch.argmax(model(X), 1)\n",
    "        outputs = outputs.detach().cpu()\n",
    "        for out in outputs:\n",
    "            f.write(\"{}\\n\".format(int(out)))\n",
    "    f.close()"
   ]
  },
  {
   "cell_type": "code",
   "execution_count": 71,
   "id": "229fc300",
   "metadata": {},
   "outputs": [
    {
     "data": {
      "text/plain": [
       "(0.11682929868992871, tensor(0.9637))"
      ]
     },
     "execution_count": 71,
     "metadata": {},
     "output_type": "execute_result"
    }
   ],
   "source": [
    "_, testloader = generate_dataloader()\n",
    "test_model(read_model(), testloader)"
   ]
  },
  {
   "cell_type": "code",
   "execution_count": null,
   "id": "8e1211a3",
   "metadata": {},
   "outputs": [],
   "source": []
  }
 ],
 "metadata": {
  "kernelspec": {
   "display_name": "Python 3 (ipykernel)",
   "language": "python",
   "name": "python3"
  },
  "language_info": {
   "codemirror_mode": {
    "name": "ipython",
    "version": 3
   },
   "file_extension": ".py",
   "mimetype": "text/x-python",
   "name": "python",
   "nbconvert_exporter": "python",
   "pygments_lexer": "ipython3",
   "version": "3.9.16"
  }
 },
 "nbformat": 4,
 "nbformat_minor": 5
}

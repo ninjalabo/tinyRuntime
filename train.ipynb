{
 "cells": [
  {
   "cell_type": "markdown",
   "id": "3cf58a11",
   "metadata": {},
   "source": [
    "# ML model generation"
   ]
  },
  {
   "cell_type": "markdown",
   "id": "ecda487a",
   "metadata": {},
   "source": [
    "This notebook creates and trains a simple fully connected model using MNIST dataset. At the end, the model is exported as `model.bin`."
   ]
  },
  {
   "cell_type": "code",
   "execution_count": 220,
   "id": "4a66b3ef",
   "metadata": {},
   "outputs": [
    {
     "data": {
      "text/plain": [
       "device(type='cpu')"
      ]
     },
     "execution_count": 220,
     "metadata": {},
     "output_type": "execute_result"
    }
   ],
   "source": [
    "#|export\n",
    "import numpy as np\n",
    "import torch\n",
    "from torch import nn\n",
    "import matplotlib.pyplot as plt\n",
    "import struct\n",
    "import os\n",
    "\n",
    "import torchvision.models as models\n",
    "from torchvision.models import ResNet18_Weights\n",
    "import torchvision.transforms as transforms\n",
    "from torchvision.datasets import ImageFolder\n",
    "from torch.utils.data import DataLoader\n",
    "\n",
    "if torch.cuda.is_available():\n",
    "    device = torch.device(\"cuda\")\n",
    "    print(\"CUDA (GPU) is available.\")\n",
    "else:\n",
    "    device = torch.device(\"cpu\")\n",
    "device"
   ]
  },
  {
   "cell_type": "code",
   "execution_count": 3,
   "id": "66867f52",
   "metadata": {},
   "outputs": [
    {
     "name": "stdout",
     "output_type": "stream",
     "text": [
      "Downloading https://s3.amazonaws.com/fast-ai-imageclas/imagenette2.tgz to data/imagenette2.tgz\n"
     ]
    },
    {
     "name": "stderr",
     "output_type": "stream",
     "text": [
      "100%|████████████████████████████████████████████████████████████████████████████████████████████████████████████████████████████████| 1557161267/1557161267 [01:32<00:00, 16777967.29it/s]\n"
     ]
    },
    {
     "name": "stdout",
     "output_type": "stream",
     "text": [
      "Extracting data/imagenette2.tgz to data\n"
     ]
    }
   ],
   "source": [
    "#|export\n",
    "import torchvision\n",
    "from torchvision.datasets.utils import download_and_extract_archive\n",
    "\n",
    "dir_path = \"data\"\n",
    "os.makedirs(dir_path, exist_ok=True)\n",
    "\n",
    "# URL for Imagenette (Full size)\n",
    "url = \"https://s3.amazonaws.com/fast-ai-imageclas/imagenette2.tgz\"\n",
    "\n",
    "# Download and extract the dataset\n",
    "download_and_extract_archive(url, download_root=dir_path, extract_root=dir_path)"
   ]
  },
  {
   "cell_type": "code",
   "execution_count": 16,
   "id": "83912d25",
   "metadata": {},
   "outputs": [],
   "source": [
    "#|export\n",
    "def generate_dataloader(batch_size=32):\n",
    "    transform = transforms.Compose([\n",
    "        transforms.Resize((224, 224)),  # Resize the image to fit ResNet input size\n",
    "        transforms.ToTensor(),\n",
    "    ])\n",
    "    \n",
    "    train_dataset = ImageFolder(root=f\"data/imagenette2/train\", transform=transform)\n",
    "    test_dataset = ImageFolder(root=f\"data/imagenette2/val\", transform=transform)\n",
    "\n",
    "    trainloader = DataLoader(train_dataset, batch_size=batch_size, shuffle=True,\n",
    "                             num_workers=torch.get_num_threads())\n",
    "    testloader = DataLoader(test_dataset, batch_size=batch_size, shuffle=False,\n",
    "                            num_workers=torch.get_num_threads())\n",
    "    \n",
    "    return trainloader, testloader"
   ]
  },
  {
   "cell_type": "code",
   "execution_count": 5,
   "id": "b894e2a5",
   "metadata": {},
   "outputs": [],
   "source": [
    "#|export\n",
    "def test_model(model, testloader):\n",
    "    loss_fn = nn.CrossEntropyLoss()\n",
    "    model.eval()\n",
    "    with torch.no_grad():\n",
    "        vloss = 0.\n",
    "        correct = 0.\n",
    "\n",
    "        # Fetch the first batch\n",
    "        for inputs, targets in testloader:\n",
    "            inputs, targets = inputs.to(device), targets.to(device)\n",
    "            outputs = model(inputs)\n",
    "            vloss += loss_fn(outputs, targets).item()\n",
    "            _, predicted = torch.max(outputs.data, 1)\n",
    "            correct += (predicted==targets).sum().item()\n",
    "    \n",
    "    return vloss/len(testloader),  correct/len(testloader.dataset)\n",
    "\n",
    "\n",
    "def train_model(model):  \n",
    "    # training\n",
    "    loss_fn = nn.CrossEntropyLoss()\n",
    "    opt = torch.optim.AdamW(model.parameters(), lr=0.001)\n",
    "    trainloader, testloader = generate_dataloader()\n",
    "\n",
    "    for epoch in range(1):\n",
    "\n",
    "        model.train()\n",
    "        tloss = 0\n",
    "        for inputs, targets in trainloader:\n",
    "            inputs, targets = inputs.to(device), targets.to(device)\n",
    "            opt.zero_grad()\n",
    "            out = model(inputs)\n",
    "            loss = loss_fn(out, targets)\n",
    "            loss.backward()\n",
    "            tloss += loss.item()\n",
    "            opt.step()\n",
    "\n",
    "        tloss = tloss/len(trainloader)\n",
    "        vloss, correct = test_model(model, testloader)\n",
    "\n",
    "        print('LOSS train {} valid {} accuracy {:.5f}'.format(tloss, vloss, correct))\n",
    "    torch.save(model, \"model.pt\")"
   ]
  },
  {
   "cell_type": "code",
   "execution_count": null,
   "id": "05334d30",
   "metadata": {},
   "outputs": [],
   "source": [
    "# swap the output layer and freeze all other layers\n",
    "model = models.resnet18(weights=ResNet18_Weights.IMAGENET1K_V1)\n",
    "for p in model.parameters():\n",
    "    p.requires_grad = False\n",
    "model.fc = nn.Linear(model.fc.in_features, 10)\n",
    "model.to(device)"
   ]
  },
  {
   "cell_type": "code",
   "execution_count": null,
   "id": "3cddc4de",
   "metadata": {},
   "outputs": [],
   "source": [
    "# fine-tuning\n",
    "#FIX find optimal hyperparameters + maybe unfreeze after training final layer and then train the entire model\n",
    "train_model(model)"
   ]
  },
  {
   "cell_type": "code",
   "execution_count": null,
   "id": "70ad7114",
   "metadata": {},
   "outputs": [],
   "source": [
    "_, testloader = generate_dataloader()\n",
    "loss, acc = test_model(model, testloader)\n",
    "print(\"Accuracy: {:.2f} %\".format(100*acc))"
   ]
  },
  {
   "cell_type": "code",
   "execution_count": null,
   "id": "1eb5b52c",
   "metadata": {},
   "outputs": [],
   "source": []
  }
 ],
 "metadata": {
  "kernelspec": {
   "display_name": "Python 3 (ipykernel)",
   "language": "python",
   "name": "python3"
  },
  "language_info": {
   "codemirror_mode": {
    "name": "ipython",
    "version": 3
   },
   "file_extension": ".py",
   "mimetype": "text/x-python",
   "name": "python",
   "nbconvert_exporter": "python",
   "pygments_lexer": "ipython3",
   "version": "3.10.0"
  }
 },
 "nbformat": 4,
 "nbformat_minor": 5
}

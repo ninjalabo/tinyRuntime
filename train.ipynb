{
 "cells": [
  {
   "cell_type": "markdown",
   "id": "3cf58a11",
   "metadata": {},
   "source": [
    "# ML model generation"
   ]
  },
  {
   "cell_type": "markdown",
   "id": "ecda487a",
   "metadata": {},
   "source": [
    "This notebook creates and trains a simple sine wave detection model by following the example provided at https://github.com/tensorflow/tflite-micro/blob/main/tensorflow/lite/micro/examples/hello_world/README.md. At the end, the model is exported as `model.bin`."
   ]
  },
  {
   "cell_type": "code",
   "execution_count": 13,
   "id": "4a66b3ef",
   "metadata": {},
   "outputs": [],
   "source": [
    "import numpy as np\n",
    "import torch\n",
    "from torch import nn\n",
    "import matplotlib.pyplot as plt\n",
    "import struct\n",
    "\n",
    "save_model = False"
   ]
  },
  {
   "cell_type": "code",
   "execution_count": 2,
   "id": "83912d25",
   "metadata": {},
   "outputs": [],
   "source": [
    "def get_data(seed=0):\n",
    "    ''' generate data for the model '''\n",
    "    np.random.seed(seed)\n",
    "    x = np.random.uniform(low=0, high=2*np.pi, size=1000)\n",
    "    np.random.shuffle(x)\n",
    "    x = torch.from_numpy(x).view(-1,1).float()\n",
    "    \n",
    "    y = torch.sin(x)\n",
    "\n",
    "    return x,y"
   ]
  },
  {
   "cell_type": "code",
   "execution_count": 3,
   "id": "f63620af",
   "metadata": {},
   "outputs": [],
   "source": [
    "class Model(nn.Module):\n",
    "    def __init__(self, dim):\n",
    "        super(Model, self).__init__()\n",
    "        self.dim = dim\n",
    "        self.layers = nn.ModuleList([nn.Linear(1, dim), \n",
    "                                    nn.Linear(dim, dim)])\n",
    "        self.activation = nn.ReLU()\n",
    "        self.out = nn.Linear(dim, 1)\n",
    "        \n",
    "        self.apply(self._init_weights)\n",
    "        \n",
    "    def _init_weights(self, module):\n",
    "        if isinstance(module, nn.Linear):\n",
    "            torch.nn.init.normal_(module.weight, mean=0.0, std=0.02)\n",
    "            if module.bias is not None:\n",
    "                torch.nn.init.zeros_(module.bias)\n",
    "        \n",
    "    def forward(self, x):\n",
    "        for layer in self.layers:\n",
    "            x = self.activation(layer(x))\n",
    "        \n",
    "        x = self.out(x)\n",
    "        \n",
    "        return x"
   ]
  },
  {
   "cell_type": "code",
   "execution_count": 8,
   "id": "cbe89d75",
   "metadata": {},
   "outputs": [
    {
     "name": "stdout",
     "output_type": "stream",
     "text": [
      "0.4938150644302368\n",
      "0.0007496473263017833\n",
      "9.792901983018965e-05\n",
      "6.613692676182836e-05\n",
      "6.751218461431563e-05\n",
      "5.037201117374934e-05\n",
      "6.468529318226501e-05\n",
      "4.8870013415580615e-05\n",
      "4.718550917459652e-05\n",
      "4.711628571385518e-05\n"
     ]
    },
    {
     "data": {
      "text/plain": [
       "[<matplotlib.lines.Line2D at 0x148aa56d0>]"
      ]
     },
     "execution_count": 8,
     "metadata": {},
     "output_type": "execute_result"
    },
    {
     "data": {
      "image/png": "[encoded data removed]",
      "text/plain": [
       "<Figure size 640x480 with 1 Axes>"
      ]
     },
     "metadata": {},
     "output_type": "display_data"
    }
   ],
   "source": [
    "# training\n",
    "model = Model(16)\n",
    "loss_fn = nn.MSELoss()\n",
    "opt = torch.optim.AdamW(model.parameters(), lr=0.002)\n",
    "x,y = get_data()\n",
    "\n",
    "for epoch in range(10000):\n",
    "    opt.zero_grad()\n",
    "    out = model(x)\n",
    "    loss = loss_fn(out, y)\n",
    "    loss.backward()\n",
    "    opt.step()\n",
    "    if epoch%1000==0:\n",
    "        print(loss.item())\n",
    "\n",
    "xval, yval = get_data()\n",
    "plt.plot(xval.numpy(), model(xval).detach().numpy(), \".\")\n",
    "plt.plot(xval.numpy(), yval.numpy(), \".\")\n"
   ]
  },
  {
   "cell_type": "code",
   "execution_count": 9,
   "id": "8bb078f1",
   "metadata": {},
   "outputs": [],
   "source": [
    "def read_parameters(model):\n",
    "    ''' read model.bin and assign parameters to the model '''\n",
    "    f = open(\"model.bin\", \"rb\")\n",
    "    dim = struct.unpack('i', f.read(4))[0]\n",
    "    f.seek(256)\n",
    "    wi = torch.tensor(struct.unpack('f'*dim, f.read(4*dim))).view(dim,1)\n",
    "    wh = torch.tensor(struct.unpack('f'*dim*dim, f.read(4*dim*dim))).view(dim,dim)\n",
    "    wo = torch.tensor(struct.unpack('f'*dim, f.read(4*dim))).view(1,dim)\n",
    "    bi = torch.tensor(struct.unpack('f'*dim, f.read(4*dim)))\n",
    "    bh = torch.tensor(struct.unpack('f'*dim, f.read(4*dim)))\n",
    "    bo = torch.tensor(struct.unpack('f', f.read(4)))\n",
    "    f.close()\n",
    "    \n",
    "    i = 0\n",
    "    params = [wi, bi, wh, bh, wo, bo]\n",
    "    for p in model.parameters():\n",
    "        p.data = params[i]\n",
    "        i += 1\n",
    "    \n",
    "    return model"
   ]
  },
  {
   "cell_type": "code",
   "execution_count": 12,
   "id": "fae2bcad",
   "metadata": {},
   "outputs": [
    {
     "name": "stdout",
     "output_type": "stream",
     "text": [
      "wrote model.bin\n"
     ]
    }
   ],
   "source": [
    "# export the model\n",
    "def serialize_fp32(file, tensor):\n",
    "    \"\"\" write one fp32 tensor to file that is open in wb mode \"\"\"\n",
    "    d = tensor.detach().cpu().view(-1).to(torch.float32).numpy()\n",
    "    b = struct.pack(f'{len(d)}f', *d)\n",
    "    file.write(b)\n",
    "    \n",
    "def export_model(model, filepath = \"model.bin\"):\n",
    "    ''' export the model to filepath '''\n",
    "    f = open(filepath, \"wb\")\n",
    "    # write the model structure \n",
    "    header = struct.pack(\"i\", model.dim)\n",
    "    f.write(header) \n",
    "    pad = 256 - f.tell() # pad rest with zeros\n",
    "    assert pad >= 0\n",
    "    f.write(b'\\0'*pad)\n",
    "    # write the model weights and biases\n",
    "    weights = [*[layer.weight for layer in model.layers], model.out.weight]\n",
    "    bias = [*[layer.bias for layer in model.layers], model.out.bias]\n",
    "    \n",
    "    for w in weights:\n",
    "        serialize_fp32(f, w)\n",
    "    \n",
    "    for b in bias:\n",
    "        serialize_fp32(f, b)\n",
    "\n",
    "    f.close()\n",
    "    print(f\"wrote {filepath}\")\n",
    "    \n",
    "if save_model:\n",
    "    export_model(model)"
   ]
  },
  {
   "cell_type": "code",
   "execution_count": 15,
   "id": "a3a5a026",
   "metadata": {},
   "outputs": [],
   "source": [
    "def serialize_int8(file, tensor):\n",
    "    \"\"\" write one int8 tensor to file that is open in wb mode \"\"\"\n",
    "    d = tensor.detach().cpu().view(-1).numpy().astype(np.int8)\n",
    "    b = struct.pack(f'{len(d)}b', *d)\n",
    "    file.write(b)\n",
    "\n",
    "def quantize_q80(w, group_size):\n",
    "    \"\"\"\n",
    "    takes a tensor and returns the Q8_0 quantized version\n",
    "    i.e. symmetric quantization into int8, range [-127,127]\n",
    "    \"\"\"\n",
    "    assert w.numel() % group_size == 0\n",
    "    ori_shape = w.shape\n",
    "    w = w.float() # convert to float32\n",
    "    w = w.reshape(-1, group_size)\n",
    "    # find the max in each group\n",
    "    wmax = torch.abs(w).max(dim=1).values\n",
    "    # calculate the scaling factor such that float = quant * scale\n",
    "    scale = wmax / 127.0\n",
    "    # scale into range [-127, 127]\n",
    "    quant = w / scale[:,None]\n",
    "    # round to nearest integer\n",
    "    int8val = torch.round(quant).to(torch.int8)\n",
    "    # dequantize by rescaling\n",
    "    fp32val = (int8val.float() * scale[:,None]).view(-1)\n",
    "    fp32valr = fp32val.reshape(-1, group_size)\n",
    "    # calculate the max error in each group\n",
    "    err = torch.abs(fp32valr - w).max(dim=1).values\n",
    "    # find the max error across all groups\n",
    "    maxerr = err.max().item()\n",
    "    return int8val, scale, maxerr\n",
    "\n",
    "def export_modelq8(model = None, filepath = \"modelq8.bin\"):\n",
    "    ''' read a model from model.bin and export a quatized (int8) model to filepath '''\n",
    "    if model==None:\n",
    "        model = read_parameters(Model(16))\n",
    "    # group size in quantizationlarger group size results in higher accuracy and larger cost in memory (check why)\n",
    "    group_size = 16 \n",
    "        \n",
    "    f = open(filepath, \"wb\")\n",
    "    # write the model structure \n",
    "    header = struct.pack(\"ii\", model.dim, group_size)\n",
    "    f.write(header) \n",
    "    pad = 256 - f.tell() # pad rest with zeros\n",
    "    assert pad >= 0\n",
    "    f.write(b'\\0'*pad)\n",
    "    # write the model weights and biases\n",
    "    weights = [*[layer.weight for layer in model.layers], model.out.weight]\n",
    "    bias = [layer.bias for layer in model.layers]\n",
    "\n",
    "    # now let's write out all the params that we are quantizing to Q8_0\n",
    "    # note we skip classifier weights, which are shared with the embedding\n",
    "    assert model.dim%group_size == 0\n",
    "    ew = []\n",
    "    for i, w in enumerate(weights):\n",
    "        # quantize this weight\n",
    "        q, s, err = quantize_q80(w, group_size)\n",
    "        # save the int8 weights to file\n",
    "        serialize_int8(f, q) # save the tensor in int8\n",
    "        serialize_fp32(f, s) # save scale factors\n",
    "        # logging\n",
    "        ew.append((err, w.shape))\n",
    "        print(f\"{i+1}/{len(weights)} quantized {tuple(w.shape)} to Q8_0 with max error {err}\")\n",
    "        \n",
    "    for i, b in enumerate(bias):\n",
    "        # quantize this bias\n",
    "        q, s, err = quantize_q80(b, group_size)\n",
    "        # save the int8 biases to file\n",
    "        serialize_int8(f, q) # save the tensor in int8\n",
    "        serialize_fp32(f, s) # save scale factors\n",
    "        # logging\n",
    "        ew.append((err, w.shape))\n",
    "        print(f\"{i+1}/{len(bias)} quantized {tuple(b.shape)} to Q8_0 with max error {err}\")\n",
    "    \n",
    "    # quantize the bias of the output layer separately because its length is 1\n",
    "    s = torch.abs(model.out.bias) / 127.0\n",
    "    serialize_int8(f, torch.tensor(127).to(torch.int8))\n",
    "    serialize_fp32(f, s)\n",
    "    # print the highest error across all weights, should be very small, e.g. O(~0.001)\n",
    "    ew.sort(reverse=True)\n",
    "    print(f\"max quantization group error across all weights: {ew[0][0]}\")\n",
    "    f.close()\n",
    "    print(f\"wrote {filepath}\")"
   ]
  },
  {
   "cell_type": "code",
   "execution_count": 83,
   "id": "563566ca",
   "metadata": {},
   "outputs": [],
   "source": [
    "def write_weights():\n",
    "    ''' write the model parameters to check if \"model.bin\" is written correctly '''\n",
    "\n",
    "    f = open(\"model.bin\", \"rb\")\n",
    "    dim = struct.unpack('i', f.read(4))[0]\n",
    "    f.seek(256)\n",
    "    wi = struct.unpack('f'*dim, f.read(4*dim))\n",
    "    wh = struct.unpack('f'*dim*dim, f.read(4*dim*dim))\n",
    "    wo = struct.unpack('f'*dim, f.read(4*dim))\n",
    "    bi = struct.unpack('f'*dim, f.read(4*dim))\n",
    "    bh = struct.unpack('f'*dim, f.read(4*dim))\n",
    "    bo = struct.unpack('f', f.read(4))\n",
    "    f.close()\n",
    "    \n",
    "    f = open(\"weightsp.txt\", \"w\")\n",
    "    weights = [*wi, *wh, *wo, *bi, *bh, *bo]\n",
    "    for w in weights:\n",
    "        f.write(\"{}\\n\".format(w))\n",
    "    f.close()"
   ]
  },
  {
   "cell_type": "code",
   "execution_count": 47,
   "id": "257b953a",
   "metadata": {},
   "outputs": [],
   "source": [
    "def write_output(model):\n",
    "    ''' write model outputs to compare these to model outputs in C '''\n",
    "    \n",
    "    model = read_parameters(model)\n",
    "\n",
    "    inputs = torch.tensor([0.001, 1.57, 3.14, 6.28]).view(-1,1);\n",
    "    \n",
    "    f = open(\"outputp.txt\", \"w\")\n",
    "    outputs = model(inputs).detach().cpu()\n",
    "    for out in outputs:\n",
    "        f.write(\"{}\\n\".format(float(out)))\n",
    "    f.close()"
   ]
  },
  {
   "cell_type": "code",
   "execution_count": null,
   "id": "072fed0c",
   "metadata": {},
   "outputs": [],
   "source": []
  }
 ],
 "metadata": {
  "kernelspec": {
   "display_name": "Python 3 (ipykernel)",
   "language": "python",
   "name": "python3"
  },
  "language_info": {
   "codemirror_mode": {
    "name": "ipython",
    "version": 3
   },
   "file_extension": ".py",
   "mimetype": "text/x-python",
   "name": "python",
   "nbconvert_exporter": "python",
   "pygments_lexer": "ipython3",
   "version": "3.9.16"
  }
 },
 "nbformat": 4,
 "nbformat_minor": 5
}

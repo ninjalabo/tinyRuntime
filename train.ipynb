{
 "cells": [
  {
   "cell_type": "markdown",
   "id": "3cf58a11",
   "metadata": {},
   "source": [
    "# ML model generation"
   ]
  },
  {
   "cell_type": "markdown",
   "id": "ecda487a",
   "metadata": {},
   "source": [
    "This notebook creates and trains a simple sine wave detection model by following the example provided at https://github.com/tensorflow/tflite-micro/blob/main/tensorflow/lite/micro/examples/hello_world/README.md. At the end, the model is exported as `model.bin`."
   ]
  },
  {
   "cell_type": "code",
   "execution_count": 4,
   "id": "4a66b3ef",
   "metadata": {},
   "outputs": [],
   "source": [
    "import numpy as np\n",
    "import torch\n",
    "from torch import nn\n",
    "import matplotlib.pyplot as plt\n",
    "import struct\n",
    "\n",
    "save_model = False"
   ]
  },
  {
   "cell_type": "code",
   "execution_count": 5,
   "id": "83912d25",
   "metadata": {},
   "outputs": [],
   "source": [
    "def get_data(seed=0):\n",
    "    '''Generates data for the model'''\n",
    "    np.random.seed(seed)\n",
    "    x = np.random.uniform(low=0, high=2*np.pi, size=1000)\n",
    "    np.random.shuffle(x)\n",
    "    x = torch.from_numpy(x).view(-1,1).float()\n",
    "    \n",
    "    y = torch.sin(x)\n",
    "\n",
    "    return x,y"
   ]
  },
  {
   "cell_type": "code",
   "execution_count": 24,
   "id": "f63620af",
   "metadata": {},
   "outputs": [],
   "source": [
    "class Model(nn.Module):\n",
    "    def __init__(self, dim):\n",
    "        super(Model, self).__init__()\n",
    "        self.dim = dim\n",
    "        self.layers = nn.ModuleList([nn.Linear(1, dim), \n",
    "                                    nn.Linear(dim, dim)])\n",
    "        self.activation = nn.ReLU()\n",
    "        self.out = nn.Linear(dim, 1)\n",
    "        \n",
    "        self.apply(self._init_weights)\n",
    "        \n",
    "    def _init_weights(self, module):\n",
    "        if isinstance(module, nn.Linear):\n",
    "            torch.nn.init.normal_(module.weight, mean=0.0, std=0.02)\n",
    "            if module.bias is not None:\n",
    "                torch.nn.init.zeros_(module.bias)\n",
    "        \n",
    "    def forward(self, x):\n",
    "        for layer in self.layers:\n",
    "            x = self.activation(layer(x))\n",
    "        \n",
    "        x = self.out(x)\n",
    "        \n",
    "        return x"
   ]
  },
  {
   "cell_type": "code",
   "execution_count": 16,
   "id": "cbe89d75",
   "metadata": {},
   "outputs": [
    {
     "name": "stdout",
     "output_type": "stream",
     "text": [
      "0.49399641156196594\n",
      "0.00030184356728568673\n",
      "8.632766548544168e-05\n",
      "6.686744745820761e-05\n",
      "6.106367072788998e-05\n",
      "5.065406730864197e-05\n",
      "9.810503979679197e-05\n",
      "6.614789890591055e-05\n",
      "5.0160429964307696e-05\n",
      "5.098251858726144e-05\n"
     ]
    },
    {
     "data": {
      "text/plain": [
       "[<matplotlib.lines.Line2D at 0x16a119df0>]"
      ]
     },
     "execution_count": 16,
     "metadata": {},
     "output_type": "execute_result"
    },
    {
     "data": {
      "image/png": "[encoded data removed]",
      "text/plain": [
       "<Figure size 640x480 with 1 Axes>"
      ]
     },
     "metadata": {},
     "output_type": "display_data"
    }
   ],
   "source": [
    "model = Model(16)\n",
    "loss_fn = nn.MSELoss()\n",
    "opt = torch.optim.AdamW(model.parameters(), lr=0.002)\n",
    "x,y = get_data()\n",
    "\n",
    "for epoch in range(10000):\n",
    "    opt.zero_grad()\n",
    "    out = model(x)\n",
    "    loss = loss_fn(out, y)\n",
    "    loss.backward()\n",
    "    opt.step()\n",
    "    if epoch%1000==0:\n",
    "        print(loss.item())\n",
    "\n",
    "xval, yval = get_data()\n",
    "plt.plot(xval.numpy(), model(xval).detach().numpy(), \".\")\n",
    "plt.plot(xval.numpy(), yval.numpy(), \".\")\n"
   ]
  },
  {
   "cell_type": "code",
   "execution_count": 133,
   "id": "fae2bcad",
   "metadata": {},
   "outputs": [],
   "source": [
    "def serialize_fp32(file, tensor):\n",
    "    \"\"\" writes one fp32 tensor to file that is open in wb mode \"\"\"\n",
    "    d = tensor.detach().cpu().view(-1).to(torch.float32).numpy()\n",
    "    b = struct.pack(f'{len(d)}f', *d)\n",
    "    file.write(b)\n",
    " \n",
    "    \n",
    "if save_model:\n",
    "    filepath = \"model.bin\"\n",
    "\n",
    "    f = open(filepath, \"wb\")\n",
    "\n",
    "    header = struct.pack(\"i\", model.dim)\n",
    "    f.write(header)\n",
    "    pad = 256 - f.tell() # pad rest with zeros\n",
    "    assert pad >= 0\n",
    "    f.write(b'\\0'*pad)\n",
    "    \n",
    "    weights = [*[layer.weight for layer in model.layers], model.out.weight]\n",
    "    bias = [*[layer.bias for layer in model.layers], model.out.bias]\n",
    "    \n",
    "    for w in weights:\n",
    "        serialize_fp32(f, w)\n",
    "    \n",
    "    for b in bias:\n",
    "        serialize_fp32(f, b)\n",
    "\n",
    "    f.close()"
   ]
  },
  {
   "cell_type": "code",
   "execution_count": 134,
   "id": "563566ca",
   "metadata": {},
   "outputs": [],
   "source": [
    "def write_weights():\n",
    "    ''' writes the model parameters to check if \"model.bin\" is written correctly '''\n",
    "\n",
    "    f = open(\"model.bin\", \"rb\")\n",
    "    dim = struct.unpack('i', f.read(4))[0]\n",
    "    f.seek(256)\n",
    "    wi = struct.unpack('f'*dim, f.read(4*dim))\n",
    "    wh = struct.unpack('f'*dim*dim, f.read(4*dim*dim))\n",
    "    wo = struct.unpack('f'*dim, f.read(4*dim))\n",
    "    bi = struct.unpack('f'*dim, f.read(4*dim))\n",
    "    bh = struct.unpack('f'*dim, f.read(4*dim))\n",
    "    bo = struct.unpack('f', f.read(4))\n",
    "    f.close()\n",
    "    \n",
    "    f = open(\"weightsp.txt\", \"w\")\n",
    "    weights = [*wi, *wh, *wo, *bi, *bh, *bo]\n",
    "    for w in weights:\n",
    "        f.write(\"{}\\n\".format(w))\n",
    "    f.close()"
   ]
  },
  {
   "cell_type": "code",
   "execution_count": 17,
   "id": "257b953a",
   "metadata": {},
   "outputs": [],
   "source": [
    "def write_output(model):\n",
    "    ''' writes model outputs to compare these to model outputs in C '''\n",
    "    \n",
    "    f = open(\"model.bin\", \"rb\")\n",
    "    dim = struct.unpack('i', f.read(4))[0]\n",
    "    f.seek(256)\n",
    "    wi = torch.tensor(struct.unpack('f'*dim, f.read(4*dim))).view(dim,1)\n",
    "    wh = torch.tensor(struct.unpack('f'*dim*dim, f.read(4*dim*dim))).view(dim,dim)\n",
    "    wo = torch.tensor(struct.unpack('f'*dim, f.read(4*dim))).view(1,dim)\n",
    "    bi = torch.tensor(struct.unpack('f'*dim, f.read(4*dim)))\n",
    "    bh = torch.tensor(struct.unpack('f'*dim, f.read(4*dim)))\n",
    "    bo = torch.tensor(struct.unpack('f', f.read(4)))\n",
    "    f.close()\n",
    "    \n",
    "    i = 0\n",
    "    params = [wi, bi, wh, bh, wo, bo]\n",
    "    for p in model.parameters():\n",
    "        p.data = params[i]\n",
    "        i += 1\n",
    "\n",
    "    inputs = torch.tensor([0.001, 1.57, 3.14, 6.28]).view(-1,1);\n",
    "    \n",
    "    f = open(\"outputp.txt\", \"w\")\n",
    "    outputs = model(inputs).detach().cpu()\n",
    "    for out in outputs:\n",
    "        f.write(\"{}\\n\".format(float(out)))\n",
    "    f.close()"
   ]
  },
  {
   "cell_type": "code",
   "execution_count": null,
   "id": "5a9eb25b",
   "metadata": {},
   "outputs": [],
   "source": []
  }
 ],
 "metadata": {
  "kernelspec": {
   "display_name": "Python 3 (ipykernel)",
   "language": "python",
   "name": "python3"
  },
  "language_info": {
   "codemirror_mode": {
    "name": "ipython",
    "version": 3
   },
   "file_extension": ".py",
   "mimetype": "text/x-python",
   "name": "python",
   "nbconvert_exporter": "python",
   "pygments_lexer": "ipython3",
   "version": "3.9.16"
  }
 },
 "nbformat": 4,
 "nbformat_minor": 5
}

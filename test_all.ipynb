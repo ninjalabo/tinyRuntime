{
 "cells": [
  {
   "cell_type": "code",
   "execution_count": 1,
   "id": "9d14bf83",
   "metadata": {},
   "outputs": [],
   "source": [
    "#|export\n",
    "\"\"\"\n",
    "Run simply with\n",
    "$ pytest\n",
    "\"\"\"\n",
    "\n",
    "import os\n",
    "import subprocess\n",
    "import numpy as np\n",
    "import torch\n",
    "import struct\n",
    "\n",
    "from model import ResNetMnist\n",
    "from export import export_modelq8\n",
    "\n",
    "def test_runfiles():\n",
    "    \"\"\" test run.c and runq.c works with an acceptable tolerance \"\"\"\n",
    "\n",
    "    file_path = \"test/data/MNIST/sorted/7/1012\"\n",
    "    \n",
    "    # run vanilla model in test mode\n",
    "    command = [\"./run\", \"model.bin\", file_path]\n",
    "    with open('err.txt', mode='w') as fe:\n",
    "        with open('stdout.txt', mode='w') as fo:\n",
    "            proc = subprocess.Popen(command, stdout=fo, stderr=fe)\n",
    "            proc.wait()\n",
    "    res = np.loadtxt(\"stdout.txt\")\n",
    "\n",
    "    # run quantized model test with group size = 1 in test mode\n",
    "    export_modelq8(file_path=\"modelq8_1.bin\", gs=1)\n",
    "    command = [\"./runq\", \"modelq8_1.bin\", file_path]\n",
    "    with open('err1.txt', mode='w') as fe:\n",
    "        with open('stdout1.txt', mode='w') as fo:\n",
    "            proc = subprocess.Popen(command, stdout=fo, stderr=fe)\n",
    "            proc.wait()\n",
    "    res1 = np.loadtxt(\"stdout1.txt\")\n",
    "\n",
    "    # run quantized model test with group size = 1 in test mode\n",
    "    export_modelq8(file_path=\"modelq8_2.bin\", gs=2)\n",
    "    command = [\"./runq\", \"modelq8_2.bin\", file_path]\n",
    "    with open('err2.txt', mode='w') as fe:\n",
    "        with open('stdout2.txt', mode='w') as fo:\n",
    "            proc = subprocess.Popen(command, stdout=fo, stderr=fe)\n",
    "            proc.wait()\n",
    "    res2 = np.loadtxt(\"stdout2.txt\")\n",
    "\n",
    "    # retrieve reference values using Python model\n",
    "    model = torch.load(\"model.pt\")\n",
    "    with open(file_path, \"rb\") as f:\n",
    "        image = torch.tensor(struct.unpack('B'*(28*28), f.read(28*28))).view(1,28,28)\n",
    "        image = ((image/255 - 0.5) / 0.5)\n",
    "        ref = model(image).detach()\n",
    "        ref = torch.nn.functional.softmax(ref, dim=1).view(-1).numpy() # python model output\n",
    "\n",
    "    assert np.allclose(res, ref, atol=1e-5, rtol=0), \"run.c: Probabilities are not close.\"\n",
    "    assert np.allclose(res1, ref, atol=1e-5, rtol=0), \"runq.c (group size = 1): Probabilities are not close.\"\n",
    "    assert np.allclose(res2, ref, atol=1e-2, rtol=0), \"runq.c (group size = 2):Probabilities are not close.\"\n"
   ]
  },
  {
   "cell_type": "code",
   "execution_count": 2,
   "id": "a582d8ce",
   "metadata": {},
   "outputs": [
    {
     "ename": "AttributeError",
     "evalue": "'ResNet' object has no attribute 'dim'",
     "output_type": "error",
     "traceback": [
      "\u001b[0;31m---------------------------------------------------------------------------\u001b[0m",
      "\u001b[0;31mAttributeError\u001b[0m                            Traceback (most recent call last)",
      "Cell \u001b[0;32mIn[2], line 1\u001b[0m\n\u001b[0;32m----> 1\u001b[0m \u001b[43mtest_runfiles\u001b[49m\u001b[43m(\u001b[49m\u001b[43m)\u001b[49m\n",
      "Cell \u001b[0;32mIn[1], line 30\u001b[0m, in \u001b[0;36mtest_runfiles\u001b[0;34m()\u001b[0m\n\u001b[1;32m     27\u001b[0m res \u001b[38;5;241m=\u001b[39m np\u001b[38;5;241m.\u001b[39mloadtxt(\u001b[38;5;124m\"\u001b[39m\u001b[38;5;124mstdout.txt\u001b[39m\u001b[38;5;124m\"\u001b[39m)\n\u001b[1;32m     29\u001b[0m \u001b[38;5;66;03m# run quantized model test with group size = 1 in test mode\u001b[39;00m\n\u001b[0;32m---> 30\u001b[0m \u001b[43mexport_modelq8\u001b[49m\u001b[43m(\u001b[49m\u001b[43mfile_path\u001b[49m\u001b[38;5;241;43m=\u001b[39;49m\u001b[38;5;124;43m\"\u001b[39;49m\u001b[38;5;124;43mmodelq8_1.bin\u001b[39;49m\u001b[38;5;124;43m\"\u001b[39;49m\u001b[43m,\u001b[49m\u001b[43m \u001b[49m\u001b[43mgs\u001b[49m\u001b[38;5;241;43m=\u001b[39;49m\u001b[38;5;241;43m1\u001b[39;49m\u001b[43m)\u001b[49m\n\u001b[1;32m     31\u001b[0m command \u001b[38;5;241m=\u001b[39m [\u001b[38;5;124m\"\u001b[39m\u001b[38;5;124m./runq\u001b[39m\u001b[38;5;124m\"\u001b[39m, \u001b[38;5;124m\"\u001b[39m\u001b[38;5;124mmodelq8_1.bin\u001b[39m\u001b[38;5;124m\"\u001b[39m, file_path]\n\u001b[1;32m     32\u001b[0m \u001b[38;5;28;01mwith\u001b[39;00m \u001b[38;5;28mopen\u001b[39m(\u001b[38;5;124m'\u001b[39m\u001b[38;5;124merr1.txt\u001b[39m\u001b[38;5;124m'\u001b[39m, mode\u001b[38;5;241m=\u001b[39m\u001b[38;5;124m'\u001b[39m\u001b[38;5;124mw\u001b[39m\u001b[38;5;124m'\u001b[39m) \u001b[38;5;28;01mas\u001b[39;00m fe:\n",
      "File \u001b[0;32m~/Documents/njlabo/tinyRuntime/export.py:104\u001b[0m, in \u001b[0;36mexport_modelq8\u001b[0;34m(model_path, file_path, gs)\u001b[0m\n\u001b[1;32m    102\u001b[0m f \u001b[38;5;241m=\u001b[39m \u001b[38;5;28mopen\u001b[39m(file_path, \u001b[38;5;124m\"\u001b[39m\u001b[38;5;124mwb\u001b[39m\u001b[38;5;124m\"\u001b[39m)\n\u001b[1;32m    103\u001b[0m \u001b[38;5;66;03m# write the model structure \u001b[39;00m\n\u001b[0;32m--> 104\u001b[0m header \u001b[38;5;241m=\u001b[39m struct\u001b[38;5;241m.\u001b[39mpack(\u001b[38;5;124m\"\u001b[39m\u001b[38;5;124miii\u001b[39m\u001b[38;5;124m\"\u001b[39m, \u001b[43mmodel\u001b[49m\u001b[38;5;241;43m.\u001b[39;49m\u001b[43mdim\u001b[49m, model\u001b[38;5;241m.\u001b[39mnclass, gs)\n\u001b[1;32m    105\u001b[0m f\u001b[38;5;241m.\u001b[39mwrite(header) \n\u001b[1;32m    106\u001b[0m \u001b[38;5;66;03m# quantize and write the model weights and biases\u001b[39;00m\n",
      "File \u001b[0;32m/opt/homebrew/lib/python3.11/site-packages/torch/nn/modules/module.py:1688\u001b[0m, in \u001b[0;36mModule.__getattr__\u001b[0;34m(self, name)\u001b[0m\n\u001b[1;32m   1686\u001b[0m     \u001b[38;5;28;01mif\u001b[39;00m name \u001b[38;5;129;01min\u001b[39;00m modules:\n\u001b[1;32m   1687\u001b[0m         \u001b[38;5;28;01mreturn\u001b[39;00m modules[name]\n\u001b[0;32m-> 1688\u001b[0m \u001b[38;5;28;01mraise\u001b[39;00m \u001b[38;5;167;01mAttributeError\u001b[39;00m(\u001b[38;5;124mf\u001b[39m\u001b[38;5;124m\"\u001b[39m\u001b[38;5;124m'\u001b[39m\u001b[38;5;132;01m{\u001b[39;00m\u001b[38;5;28mtype\u001b[39m(\u001b[38;5;28mself\u001b[39m)\u001b[38;5;241m.\u001b[39m\u001b[38;5;18m__name__\u001b[39m\u001b[38;5;132;01m}\u001b[39;00m\u001b[38;5;124m'\u001b[39m\u001b[38;5;124m object has no attribute \u001b[39m\u001b[38;5;124m'\u001b[39m\u001b[38;5;132;01m{\u001b[39;00mname\u001b[38;5;132;01m}\u001b[39;00m\u001b[38;5;124m'\u001b[39m\u001b[38;5;124m\"\u001b[39m)\n",
      "\u001b[0;31mAttributeError\u001b[0m: 'ResNet' object has no attribute 'dim'"
     ]
    }
   ],
   "source": [
    "test_runfiles()"
   ]
  },
  {
   "cell_type": "code",
   "execution_count": 200,
   "id": "5f291f26",
   "metadata": {},
   "outputs": [],
   "source": [
    "def print_output(module, input, output):\n",
    "      print(module)\n",
    "      print(output.shape)\n",
    "      print(output[0][0])\n",
    "\n",
    "def test_runfiles():\n",
    "    \"\"\" test run.c and runq.c works with an acceptable tolerance \"\"\"\n",
    "\n",
    "    file_path = \"test/data/MNIST/sorted/7/1012\"\n",
    "    \n",
    "    # run vanilla model in test mode\n",
    "    command = [\"./run\", \"model.bin\", file_path]\n",
    "    with open('err.txt', mode='w') as fe:\n",
    "        with open('stdout.txt', mode='w') as fo:\n",
    "            proc = subprocess.Popen(command, stdout=fo, stderr=fe)\n",
    "            proc.wait()\n",
    "    res = np.loadtxt(\"stdout.txt\")\n",
    "     # retrieve reference values using Python model\n",
    "    model = torch.load(\"modelMNIST.pt\")\n",
    "    \n",
    "    hook = model.group1.group[0].block.register_forward_hook(print_output)\n",
    "    #hook = model.group1.register_forward_hook(print_output)\n",
    "    #hook = model.bn1.register_forward_hook(print_output)\n",
    "    with open(file_path, \"rb\") as f:\n",
    "        image = torch.tensor(struct.unpack('B'*(28*28), f.read(28*28))).view(1,1,28,28)\n",
    "        image = ((image/255 - 0.5) / 0.5)\n",
    "        ref = model(image).detach().view(-1).numpy()\n",
    "        print(ref)\n",
    "    hook.remove()\n",
    "\n",
    "    assert np.allclose(res, ref, atol=1e-5, rtol=0), \"run.c: Probabilities are not close.\""
   ]
  },
  {
   "cell_type": "code",
   "execution_count": 201,
   "id": "938c3ec6",
   "metadata": {},
   "outputs": [
    {
     "name": "stdout",
     "output_type": "stream",
     "text": [
      "Sequential(\n",
      "  (0): Conv2d(64, 64, kernel_size=(3, 3), stride=(1, 1), padding=(1, 1), bias=False)\n",
      "  (1): BatchNorm2d(64, eps=1e-05, momentum=0.1, affine=True, track_running_stats=True)\n",
      "  (2): ReLU()\n",
      "  (3): Conv2d(64, 64, kernel_size=(3, 3), stride=(1, 1), padding=(1, 1), bias=False)\n",
      "  (4): BatchNorm2d(64, eps=1e-05, momentum=0.1, affine=True, track_running_stats=True)\n",
      ")\n",
      "torch.Size([1, 64, 14, 14])\n",
      "tensor([[ 1.6846e-02,  2.0052e-01,  3.4346e-01,  5.0054e-01,  5.2773e-01,\n",
      "          4.9271e-01,  4.0332e-01,  3.0429e-01,  2.8427e-01,  3.3987e-01,\n",
      "          4.1979e-01,  4.7369e-01,  4.9600e-01,  1.8091e-01],\n",
      "        [ 1.4057e-01,  4.6611e-01,  5.9975e-01,  6.5954e-01,  6.0233e-01,\n",
      "          4.0344e-01,  2.1860e-01,  1.7428e-01,  3.3946e-01,  5.2218e-01,\n",
      "          6.3623e-01,  7.3134e-01,  5.9431e-01,  3.5015e-01],\n",
      "        [ 4.1412e-02,  1.6437e-01,  2.0722e-01,  1.2923e-01, -2.7509e-01,\n",
      "         -9.5038e-01, -1.5550e+00, -1.7116e+00, -1.0098e+00, -1.3439e-01,\n",
      "          1.8560e-01,  2.4177e-01,  3.2163e-01,  2.3434e-01],\n",
      "        [ 3.0721e-03,  1.1885e-01,  4.9086e-02, -4.8082e-01, -1.6685e+00,\n",
      "         -2.6832e+00, -3.6034e+00, -3.5424e+00, -2.4232e+00, -8.7252e-01,\n",
      "         -1.7872e-01,  9.8832e-02,  1.8421e-01,  9.2646e-02],\n",
      "        [ 2.0997e-03,  2.3907e-01,  1.7918e-01, -8.1421e-02, -5.9970e-01,\n",
      "         -8.2206e-01, -7.5485e-01, -1.7831e+00, -1.5665e+00, -7.4980e-01,\n",
      "         -5.0921e-01,  1.1416e-01,  1.7141e-01,  6.4498e-02],\n",
      "        [ 2.0997e-03,  3.7249e-01,  5.5070e-01,  1.1708e+00,  1.7853e+00,\n",
      "          1.9600e+00,  1.9354e+00,  5.0651e-01, -6.9741e-01, -4.5360e-01,\n",
      "         -4.5271e-01,  7.2497e-02,  1.0373e-01,  6.2789e-02],\n",
      "        [ 2.0997e-03,  2.9198e-01,  6.4369e-01,  6.3161e-01, -7.8713e-02,\n",
      "         -7.4947e-01, -9.6409e-01, -1.5208e+00, -1.6961e+00, -7.3044e-01,\n",
      "         -6.8902e-01,  5.1231e-02,  4.0052e-02,  5.6119e-02],\n",
      "        [ 2.0997e-03,  1.7953e-01,  2.7274e-01, -1.1708e-01, -1.1306e+00,\n",
      "         -1.9046e+00, -2.3274e+00, -3.0432e+00, -3.4065e+00, -2.4252e+00,\n",
      "         -1.7040e+00, -3.8710e-01,  4.8067e-02,  6.2401e-02],\n",
      "        [ 2.0997e-03,  1.5987e-01,  2.6101e-01,  5.3628e-01,  1.0202e+00,\n",
      "          1.4873e+00,  1.4518e+00,  1.7537e-01, -1.1575e+00, -1.3010e+00,\n",
      "         -9.5736e-01, -3.9867e-01,  4.3744e-03,  4.4205e-02],\n",
      "        [ 2.0997e-03,  1.5882e-01,  5.6847e-01,  1.1725e+00,  1.8887e+00,\n",
      "          2.5732e+00,  2.6904e+00,  1.7842e+00,  8.2785e-01,  9.7234e-01,\n",
      "          5.4915e-01,  3.9939e-01,  2.5183e-01,  5.9744e-02],\n",
      "        [ 2.0997e-03,  7.3006e-02,  1.7748e-01,  3.3722e-01,  7.0892e-01,\n",
      "          1.0496e+00,  9.4158e-01,  1.6202e-01, -1.3337e-01,  4.0611e-01,\n",
      "          1.6949e-01,  4.2293e-01,  3.6534e-01,  9.1703e-02],\n",
      "        [ 2.2214e-02,  6.8501e-02, -2.1596e-02,  9.4468e-03,  2.6689e-01,\n",
      "          5.5086e-01,  5.5281e-01, -9.7544e-01, -7.9791e-01, -3.2731e-01,\n",
      "         -1.1374e-01,  3.7227e-01,  1.6591e-01, -3.1723e-03],\n",
      "        [-1.9271e-01, -2.6533e-01, -1.9515e-01, -2.5447e-01,  1.2945e-02,\n",
      "          3.6635e-01,  9.5735e-01,  2.3374e-02, -8.7420e-02, -3.9451e-01,\n",
      "         -2.9843e-01, -2.6276e-02, -1.1720e-01, -4.3841e-02],\n",
      "        [-1.3138e-01, -3.2555e-01, -3.9440e-01, -4.1074e-01, -2.3495e-01,\n",
      "          1.7442e-01,  7.5550e-01,  5.1250e-01,  3.7812e-01, -5.0171e-02,\n",
      "         -2.2305e-01, -3.0854e-01, -3.4068e-01, -2.7789e-01]],\n",
      "       grad_fn=<SelectBackward0>)\n",
      "[-4.952891   -2.3070562  -0.92315984 -0.395489    0.94293505 -5.4462166\n",
      " -9.801554    6.931416   -3.640058    0.30657697]\n"
     ]
    },
    {
     "ename": "AssertionError",
     "evalue": "run.c: Probabilities are not close.",
     "output_type": "error",
     "traceback": [
      "\u001b[0;31m---------------------------------------------------------------------------\u001b[0m",
      "\u001b[0;31mAssertionError\u001b[0m                            Traceback (most recent call last)",
      "Cell \u001b[0;32mIn[201], line 1\u001b[0m\n\u001b[0;32m----> 1\u001b[0m \u001b[43mtest_runfiles\u001b[49m\u001b[43m(\u001b[49m\u001b[43m)\u001b[49m\n",
      "Cell \u001b[0;32mIn[200], line 31\u001b[0m, in \u001b[0;36mtest_runfiles\u001b[0;34m()\u001b[0m\n\u001b[1;32m     28\u001b[0m     \u001b[38;5;28mprint\u001b[39m(ref)\n\u001b[1;32m     29\u001b[0m hook\u001b[38;5;241m.\u001b[39mremove()\n\u001b[0;32m---> 31\u001b[0m \u001b[38;5;28;01massert\u001b[39;00m np\u001b[38;5;241m.\u001b[39mallclose(res, ref, atol\u001b[38;5;241m=\u001b[39m\u001b[38;5;241m1e-5\u001b[39m, rtol\u001b[38;5;241m=\u001b[39m\u001b[38;5;241m0\u001b[39m), \u001b[38;5;124m\"\u001b[39m\u001b[38;5;124mrun.c: Probabilities are not close.\u001b[39m\u001b[38;5;124m\"\u001b[39m\n",
      "\u001b[0;31mAssertionError\u001b[0m: run.c: Probabilities are not close."
     ]
    }
   ],
   "source": [
    "test_runfiles()"
   ]
  },
  {
   "cell_type": "code",
   "execution_count": 39,
   "id": "b8b9a89a",
   "metadata": {},
   "outputs": [
    {
     "data": {
      "text/plain": [
       "<torch.utils.hooks.RemovableHandle at 0x155d07a50>"
      ]
     },
     "execution_count": 39,
     "metadata": {},
     "output_type": "execute_result"
    }
   ],
   "source": [
    "model = torch.load(\"modelMNIST.pt\")\n",
    "def print_output(module, input, output):\n",
    "    print(module, output)\n",
    "\n",
    "model.maxpool.register_forward_hook(print_output)"
   ]
  },
  {
   "cell_type": "code",
   "execution_count": null,
   "id": "c6ccac98",
   "metadata": {},
   "outputs": [],
   "source": []
  }
 ],
 "metadata": {
  "kernelspec": {
   "display_name": "Python 3 (ipykernel)",
   "language": "python",
   "name": "python3"
  },
  "language_info": {
   "codemirror_mode": {
    "name": "ipython",
    "version": 3
   },
   "file_extension": ".py",
   "mimetype": "text/x-python",
   "name": "python",
   "nbconvert_exporter": "python",
   "pygments_lexer": "ipython3",
   "version": "3.11.6"
  }
 },
 "nbformat": 4,
 "nbformat_minor": 5
}

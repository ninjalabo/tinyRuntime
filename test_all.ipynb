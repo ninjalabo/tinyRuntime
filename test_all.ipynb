{
 "cells": [
  {
   "cell_type": "code",
   "execution_count": 45,
   "id": "92120998",
   "metadata": {},
   "outputs": [],
   "source": [
    "#|export\n",
    "\"\"\"\n",
    "Run simply with\n",
    "$ pytest\n",
    "\"\"\"\n",
    "import pytest\n",
    "\n",
    "import os\n",
    "import subprocess\n",
    "import numpy as np\n",
    "import torch\n",
    "import struct\n",
    "\n",
    "from export import export_model, export_modelq8\n",
    "from train import load\n",
    "\n",
    "#this is predicted wrong on fastai resnet18\n",
    "#file_path = \"test/data/imagenette2/val_transformed/0/113\"\n",
    "file_path = \"data/imagenette2/val_transformed/0/2\""
   ]
  },
  {
   "cell_type": "code",
   "execution_count": 46,
   "id": "96cc7f58",
   "metadata": {},
   "outputs": [],
   "source": [
    "#|export\n",
    "def calculate_reference_values(model_name, file_path):\n",
    "    # calculate reference values using Python model\n",
    "    model = load(model_name)\n",
    "    with open(file_path, \"rb\") as f:\n",
    "        sizeof_float, nch, h, w = 4, 3, 224, 224\n",
    "        image = torch.tensor(struct.unpack(\"f\"*(nch*h*w), f.read(sizeof_float*nch*h*w))).view(1, nch,h,w)\n",
    "        ref = model(image).detach()\n",
    "        ref = torch.nn.functional.softmax(ref, dim=1).view(-1).numpy() # python model output\n",
    "    return ref"
   ]
  },
  {
   "cell_type": "code",
   "execution_count": 47,
   "id": "9d14bf83",
   "metadata": {},
   "outputs": [],
   "source": [
    "#|export\n",
    "def execute(command):\n",
    "    d = \"test_outputs\"\n",
    "    os.makedirs(d, exist_ok=True)\n",
    "    err = os.path.join(d, \"err.txt\")\n",
    "    out = os.path.join(d, \"stdout.txt\")\n",
    "    with open(err, mode=\"w\") as fe:\n",
    "        with open(out, mode=\"w\") as fo:\n",
    "            proc = subprocess.Popen(command, stdout=fo, stderr=fe)\n",
    "            proc.wait()\n",
    "    res = np.loadtxt(out)\n",
    "\n",
    "    return res\n",
    "\n",
    "@pytest.mark.parametrize(\"model_name\", [\"resnet18\", \"resnet34\", \"resnet50\"])\n",
    "def test_runfiles(model_name, quantized=False, file_path=file_path):\n",
    "    \"\"\" test run.c and runq.c works with an acceptable tolerance \"\"\"\n",
    "    # run vanilla model in test mode\n",
    "    ref = calculate_reference_values(model_name, file_path=\"data/imagenette2/val_transformed/0/2\")\n",
    "    export_model(model_name)\n",
    "    compile = [f'make compile_{model_name}']\n",
    "    subprocess.run(compile, shell=True)\n",
    "    command = [\"./run\", \"model.bin\", file_path]\n",
    "    res = execute(command)\n",
    "    assert np.allclose(res, ref, atol=1e-5, rtol=0), \"run.c: Probabilities are not close.\"\n",
    "\n",
    "    if quantized:\n",
    "        # run quantized model test with group size = 1 and 2 in test mode\n",
    "        export_modelq8(file_path=\"modelq8_1.bin\", gs=1)\n",
    "        resq1 = execute([\"./runq\", \"modelq8_1.bin\", file_path])\n",
    "        assert np.allclose(resq1, ref, atol=1e-5, rtol=0), \"runq.c (group size = 1): Probabilities are not close.\"\n",
    "\n",
    "        export_modelq8(file_path=\"modelq8_2.bin\", gs=2)\n",
    "        resq2 = execute([\"./runq\", \"modelq8_2.bin\", file_path])\n",
    "        assert np.allclose(resq2, ref, atol=1e-2, rtol=0), \"runq.c (group size = 2):Probabilities are not close.\"\n",
    "\n",
    "    print(\"Done\")"
   ]
  },
  {
   "cell_type": "code",
   "execution_count": 49,
   "id": "a582d8ce",
   "metadata": {},
   "outputs": [
    {
     "name": "stdout",
     "output_type": "stream",
     "text": [
      "wrote model.bin\n",
      "clang -Os -Wall -DRESNET34 run.c  func.c -lm -o run\n",
      "clang -Os -Wall runq.c func.c -lm -o runq\n"
     ]
    },
    {
     "name": "stderr",
     "output_type": "stream",
     "text": [
      "run.c:235:13: warning: unused function 'resnet18' [-Wunused-function]\n",
      "  235 | static void resnet18(ConvConfig *cc, LinearConfig *lc, float *p, Model *m,\n",
      "      |             ^~~~~~~~\n",
      "run.c:279:13: warning: unused function 'resnet50' [-Wunused-function]\n",
      "  279 | static void resnet50(ConvConfig *cc, LinearConfig *lc, float *p, Model *m,\n",
      "      |             ^~~~~~~~\n",
      "2 warnings generated.\n"
     ]
    },
    {
     "name": "stdout",
     "output_type": "stream",
     "text": [
      "Done\n"
     ]
    }
   ],
   "source": [
    "test_runfiles(\"resnet34\", False)"
   ]
  },
  {
   "cell_type": "code",
   "execution_count": 104,
   "id": "94b2eea5",
   "metadata": {},
   "outputs": [
    {
     "name": "stdout",
     "output_type": "stream",
     "text": [
      "3\n",
      "tensor([[[[1.1400, 0.8885, 1.4719,  ..., 0.5663, 0.9684, 2.1019],\n",
      "          [2.1637, 1.6843, 0.7259,  ..., 1.3679, 1.1357, 2.0868],\n",
      "          [0.2753, 0.8641, 0.1392,  ..., 1.0107, 1.1980, 1.8648],\n",
      "          ...,\n",
      "          [1.3349, 1.1786, 0.8576,  ..., 1.0482, 0.2410, 0.4808],\n",
      "          [1.1318, 0.7934, 1.5452,  ..., 0.7654, 0.7076, 0.0306],\n",
      "          [2.7300, 2.4416, 1.9129,  ..., 1.9120, 2.1227, 2.1891]],\n",
      "\n",
      "         [[1.3740, 1.1486, 0.9849,  ..., 1.0718, 1.1977, 0.8783],\n",
      "          [0.5917, 0.4507, 1.5132,  ..., 1.3332, 0.9195, 0.3703],\n",
      "          [0.9547, 0.9663, 1.6444,  ..., 0.9273, 1.0539, 0.8050],\n",
      "          ...,\n",
      "          [0.5531, 0.7749, 1.0821,  ..., 1.4570, 1.2188, 0.6488],\n",
      "          [2.1351, 1.9420, 0.9674,  ..., 2.4470, 0.9771, 1.7373],\n",
      "          [0.8505, 1.3167, 1.5605,  ..., 1.3034, 1.0526, 0.8555]],\n",
      "\n",
      "         [[0.0000, 0.0000, 0.0000,  ..., 2.5231, 0.0000, 0.0000],\n",
      "          [0.6186, 0.8010, 0.0000,  ..., 0.0000, 1.8106, 1.4587],\n",
      "          [0.8934, 0.0000, 0.0000,  ..., 0.8636, 0.0000, 0.0000],\n",
      "          ...,\n",
      "          [0.8668, 0.0000, 0.0000,  ..., 0.0000, 0.5111, 2.5466],\n",
      "          [0.0937, 0.0000, 0.0000,  ..., 0.0000, 0.2501, 0.0000],\n",
      "          [0.5304, 0.0000, 0.0000,  ..., 1.9293, 1.1557, 0.0000]],\n",
      "\n",
      "         ...,\n",
      "\n",
      "         [[0.4722, 0.2253, 1.0056,  ..., 1.3230, 1.5163, 0.8638],\n",
      "          [1.1077, 0.0000, 0.0000,  ..., 0.7295, 1.1481, 0.4847],\n",
      "          [1.2932, 0.0000, 0.0000,  ..., 0.1205, 0.6762, 0.1634],\n",
      "          ...,\n",
      "          [1.4694, 0.7034, 0.3140,  ..., 0.0000, 1.0133, 0.1692],\n",
      "          [0.3550, 0.1786, 1.2531,  ..., 0.2753, 1.4195, 0.3166],\n",
      "          [0.3385, 0.5238, 1.1465,  ..., 0.5286, 1.7407, 0.9694]],\n",
      "\n",
      "         [[2.0371, 2.2736, 2.4911,  ..., 1.6166, 1.3870, 1.6415],\n",
      "          [2.6234, 2.6712, 2.5149,  ..., 2.8470, 2.4108, 1.7203],\n",
      "          [1.7266, 2.4242, 2.5220,  ..., 2.8263, 3.1991, 3.1052],\n",
      "          ...,\n",
      "          [2.7216, 3.3298, 3.4325,  ..., 3.1972, 3.2230, 2.1415],\n",
      "          [2.6120, 3.3054, 3.7591,  ..., 3.3716, 3.3569, 2.4974],\n",
      "          [2.3210, 2.5000, 2.3612,  ..., 2.5019, 2.6518, 2.3118]],\n",
      "\n",
      "         [[0.0000, 0.0000, 0.0000,  ..., 0.0000, 0.0000, 0.0000],\n",
      "          [0.0000, 0.0000, 0.0000,  ..., 0.0000, 0.0000, 0.0000],\n",
      "          [0.0000, 0.0000, 0.0000,  ..., 0.0000, 0.0000, 0.0000],\n",
      "          ...,\n",
      "          [0.0000, 0.0000, 0.0000,  ..., 0.0000, 0.0000, 0.0000],\n",
      "          [0.0000, 0.0000, 0.0000,  ..., 0.0000, 0.0000, 0.4574],\n",
      "          [0.0658, 0.0000, 0.0000,  ..., 0.0000, 0.0000, 3.1714]]]],\n",
      "       grad_fn=<ReluBackward0>)\n",
      "torch.Size([1, 256, 56, 56])\n",
      "[9.9673033e-01 4.5570769e-06 8.8043715e-05 2.9474473e-05 3.8813008e-04\n",
      " 2.9244894e-04 1.5801787e-05 6.5409818e-05 1.2538651e-03 1.1319721e-03]\n"
     ]
    }
   ],
   "source": [
    "def hook_fn(module, input, output):\n",
    "    print(output)\n",
    "    print(output.shape)\n",
    "    return output\n",
    "\n",
    "\n",
    "model = load(\"resnet50\")\n",
    "fs = model[0][3]\n",
    "first_resnet_layer = model[0][4]\n",
    "print(len(first_resnet_layer))\n",
    "second_resnet_layer = model[0][5]\n",
    "last_resnet_layer = model[0][7]\n",
    "pool_layer = model[1][0]\n",
    "bn_1_layer = model[1][2]\n",
    "ln1_layer = model[1][4]\n",
    "bn2_layer = model[1][6]\n",
    "ln2_layer = model[1][8]\n",
    "\n",
    "file_path = \"data/imagenette2/val_transformed/0/2\"\n",
    "with open(file_path, \"rb\") as f:\n",
    "    sizeof_float, nch, h, w = 4, 3, 224, 224\n",
    "    image = torch.tensor(struct.unpack(\"f\"*(nch*h*w), f.read(sizeof_float*nch*h*w))).view(1, nch,h,w)\n",
    "    hook = first_resnet_layer.register_forward_hook(hook_fn)\n",
    "    out = model(image).detach()\n",
    "    output = torch.nn.functional.softmax(out, dim=1).view(-1).numpy()\n",
    "    print(output)\n",
    "    hook.remove()"
   ]
  },
  {
   "cell_type": "code",
   "execution_count": 103,
   "id": "65d8b18d",
   "metadata": {},
   "outputs": [
    {
     "name": "stdout",
     "output_type": "stream",
     "text": [
      "wrote model.bin\n",
      "53\n"
     ]
    }
   ],
   "source": [
    "export_model(\"resnet50\")\n",
    "model = load(\"resnet50\")\n",
    "conv_layers = [layer for layer in model.modules() if isinstance(layer, torch.nn.Conv2d)]\n",
    "print(len(conv_layers))"
   ]
  },
  {
   "cell_type": "code",
   "execution_count": null,
   "id": "33c42e08",
   "metadata": {},
   "outputs": [],
   "source": []
  }
 ],
 "metadata": {
  "kernelspec": {
   "display_name": "Python 3 (ipykernel)",
   "language": "python",
   "name": "python3"
  },
  "language_info": {
   "codemirror_mode": {
    "name": "ipython",
    "version": 3
   },
   "file_extension": ".py",
   "mimetype": "text/x-python",
   "name": "python",
   "nbconvert_exporter": "python",
   "pygments_lexer": "ipython3",
   "version": "3.12.2"
  }
 },
 "nbformat": 4,
 "nbformat_minor": 5
}

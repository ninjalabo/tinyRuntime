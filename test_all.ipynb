{
 "cells": [
  {
   "cell_type": "code",
   "execution_count": 1,
   "id": "92120998",
   "metadata": {},
   "outputs": [],
   "source": [
    "#|export\n",
    "\"\"\"\n",
    "Run simply with\n",
    "$ pytest\n",
    "\"\"\"\n",
    "import pytest\n",
    "\n",
    "import os\n",
    "import subprocess\n",
    "import numpy as np\n",
    "import torch\n",
    "import struct\n",
    "\n",
    "from export import export_model, export_modelq8\n",
    "from train import load\n",
    "\n",
    "file_path = \"test/data/imagenette2/val_transformed/0/113\""
   ]
  },
  {
   "cell_type": "code",
   "execution_count": 2,
   "id": "96cc7f58",
   "metadata": {},
   "outputs": [],
   "source": [
    "#|export\n",
    "# calculate reference values using Python model\n",
    "def calculate_reference_values(model, file_path):\n",
    "    # calculate reference values using Python model\n",
    "    with open(file_path, \"rb\") as f:\n",
    "        sizeof_float, nch, h, w = 4, 3, 224, 224\n",
    "        image = torch.tensor(struct.unpack(\"f\"*(nch*h*w), f.read(sizeof_float*nch*h*w))).view(1, nch,h,w)\n",
    "        ref = model(image).detach()\n",
    "        ref = torch.nn.functional.softmax(ref, dim=1).view(-1).numpy() # python model output\n",
    "    return ref"
   ]
  },
  {
   "cell_type": "code",
   "execution_count": 26,
   "id": "9d14bf83",
   "metadata": {},
   "outputs": [],
   "source": [
    "#|export\n",
    "def execute(command):\n",
    "    d = \"test_outputs\"\n",
    "    os.makedirs(d, exist_ok=True)\n",
    "    err = os.path.join(d, \"err.txt\")\n",
    "    out = os.path.join(d, \"stdout.txt\")\n",
    "    with open(err, mode=\"w\") as fe:\n",
    "        with open(out, mode=\"w\") as fo:\n",
    "            proc = subprocess.Popen(command, stdout=fo, stderr=fe)\n",
    "            proc.wait()\n",
    "    res = np.loadtxt(out)\n",
    "\n",
    "    return res\n",
    "\n",
    "@pytest.mark.parametrize(\"model_size\", [18, 34, 50])\n",
    "def test_runfiles(model_size, quantized=True, file_path=file_path):\n",
    "    \"\"\" test run.c and runq.c works with an acceptable tolerance \"\"\"\n",
    "    # run vanilla model in test mode\n",
    "    model = load(f\"resnet{model_size}\").model\n",
    "    ref = calculate_reference_values(model, file_path)\n",
    "    export_model(model)\n",
    "    command = [\"./run\", str(model_size), \"model.bin\", file_path]\n",
    "    res = execute(command)\n",
    "\n",
    "    assert np.allclose(res, ref, atol=1e-5, rtol=0), \"run.c: Probabilities are not close.\"\n",
    "\n",
    "    if quantized:\n",
    "        # run quantized model test with group size = 1 and 2 in test mode\n",
    "        export_modelq8(model, file_path=\"modelq8_1.bin\", gs=1)\n",
    "        resq1 = execute([\"./runq\", str(model_size), \"modelq8_1.bin\", file_path])\n",
    "        assert np.allclose(resq1, ref, atol=1e-5, rtol=0), \"runq.c (group size = 1): Probabilities are not close.\"\n",
    "\n",
    "        export_modelq8(model, file_path=\"modelq8_2.bin\", gs=2)\n",
    "        resq2 = execute([\"./runq\", str(model_size), \"modelq8_2.bin\", file_path])\n",
    "        assert np.allclose(resq2, ref, atol=2e-2, rtol=0), \"runq.c (group size = 2):Probabilities are not close.\"\n",
    "\n",
    "    print(\"Done\")"
   ]
  },
  {
   "cell_type": "code",
   "execution_count": null,
   "id": "f83328d6",
   "metadata": {},
   "outputs": [],
   "source": []
  }
 ],
 "metadata": {
  "kernelspec": {
   "display_name": "Python 3 (ipykernel)",
   "language": "python",
   "name": "python3"
  },
  "language_info": {
   "codemirror_mode": {
    "name": "ipython",
    "version": 3
   },
   "file_extension": ".py",
   "mimetype": "text/x-python",
   "name": "python",
   "nbconvert_exporter": "python",
   "pygments_lexer": "ipython3",
   "version": "3.10.0"
  }
 },
 "nbformat": 4,
 "nbformat_minor": 5
}

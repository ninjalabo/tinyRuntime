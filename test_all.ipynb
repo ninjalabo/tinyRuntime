{
 "cells": [
  {
   "cell_type": "code",
   "execution_count": 1,
   "id": "92120998",
   "metadata": {},
   "outputs": [],
   "source": [
    "#|export\n",
    "\"\"\"\n",
    "Run simply with\n",
    "$ pytest\n",
    "\"\"\"\n",
    "\n",
    "import os\n",
    "import subprocess\n",
    "import numpy as np\n",
    "import torch\n",
    "import struct\n",
    "\n",
    "from export import export_model, export_modelq8\n",
    "\n",
    "file_path = \"test/data/imagenette2/val_transformed/0/113\""
   ]
  },
  {
   "cell_type": "code",
   "execution_count": 2,
   "id": "96cc7f58",
   "metadata": {},
   "outputs": [],
   "source": [
    "#|export\n",
    "# calculate reference values using Python model\n",
    "model = torch.load(\"model.pt\")\n",
    "with open(file_path, \"rb\") as f:\n",
    "    sizeof_float, nch, h, w = 4, 3, 224, 224\n",
    "    image = torch.tensor(struct.unpack(\"f\"*(nch*h*w), f.read(sizeof_float*nch*h*w))).view(1,nch,h,w)\n",
    "    ref = model(image).detach()\n",
    "    ref = torch.nn.functional.softmax(ref, dim=1).view(-1).numpy() # python model output"
   ]
  },
  {
   "cell_type": "code",
   "execution_count": 5,
   "id": "9d14bf83",
   "metadata": {},
   "outputs": [],
   "source": [
    "#|export\n",
    "def execute(command):\n",
    "    d = \"test_outputs\"\n",
    "    os.makedirs(d, exist_ok=True)\n",
    "    err = os.path.join(d, \"err.txt\")\n",
    "    out = os.path.join(d, \"stdout.txt\")\n",
    "    with open(err, mode=\"w\") as fe:\n",
    "        with open(out, mode=\"w\") as fo:\n",
    "            proc = subprocess.Popen(command, stdout=fo, stderr=fe)\n",
    "            proc.wait()\n",
    "    res = np.loadtxt(out)\n",
    "\n",
    "    return res\n",
    "\n",
    "def test_runfiles(quantized=True, file_path=file_path):\n",
    "    \"\"\" test run.c and runq.c works with an acceptable tolerance \"\"\"\n",
    "    # run vanilla model in test mode\n",
    "    export_model()\n",
    "    command = [\"./run\", \"model.bin\", file_path]\n",
    "    res = execute(command)\n",
    "    assert np.allclose(res, ref, atol=1e-5, rtol=0), \"run.c: Probabilities are not close.\"\n",
    "\n",
    "    if quantized:\n",
    "        # run quantized model test with group size = 1 and 2 in test mode\n",
    "        export_modelq8(file_path=\"modelq8_1.bin\", gs=1)\n",
    "        resq1 = execute([\"./runq\", \"modelq8_1.bin\", file_path])\n",
    "        assert np.allclose(resq1, ref, atol=1e-5, rtol=0), \"runq.c (group size = 1): Probabilities are not close.\"\n",
    "\n",
    "        export_modelq8(file_path=\"modelq8_2.bin\", gs=2)\n",
    "        resq2 = execute([\"./runq\", \"modelq8_2.bin\", file_path])\n",
    "        assert np.allclose(resq2, ref, atol=1e-2, rtol=0), \"runq.c (group size = 2):Probabilities are not close.\"\n",
    "\n",
    "    print(\"Done\")"
   ]
  },
  {
   "cell_type": "code",
   "execution_count": 6,
   "id": "a582d8ce",
   "metadata": {},
   "outputs": [
    {
     "name": "stdout",
     "output_type": "stream",
     "text": [
      "wrote model.bin\n",
      "Quantized (64, 3, 7, 7) to Q8_0 with max error 2.9802322387695312e-08\n",
      "Quantized (64, 64, 3, 3) to Q8_0 with max error 2.9802322387695312e-08\n",
      "Quantized (64, 64, 3, 3) to Q8_0 with max error 7.450580596923828e-09\n",
      "Quantized (64, 64, 3, 3) to Q8_0 with max error 7.450580596923828e-09\n",
      "Quantized (64, 64, 3, 3) to Q8_0 with max error 1.4901161193847656e-08\n",
      "Quantized (128, 64, 3, 3) to Q8_0 with max error 1.4901161193847656e-08\n",
      "Quantized (128, 128, 3, 3) to Q8_0 with max error 1.4901161193847656e-08\n",
      "Quantized (128, 64, 1, 1) to Q8_0 with max error 2.9802322387695312e-08\n",
      "Quantized (128, 128, 3, 3) to Q8_0 with max error 1.4901161193847656e-08\n",
      "Quantized (128, 128, 3, 3) to Q8_0 with max error 1.4901161193847656e-08\n",
      "Quantized (256, 128, 3, 3) to Q8_0 with max error 1.4901161193847656e-08\n",
      "Quantized (256, 256, 3, 3) to Q8_0 with max error 1.4901161193847656e-08\n",
      "Quantized (256, 128, 1, 1) to Q8_0 with max error 7.450580596923828e-09\n",
      "Quantized (256, 256, 3, 3) to Q8_0 with max error 7.450580596923828e-09\n",
      "Quantized (256, 256, 3, 3) to Q8_0 with max error 7.450580596923828e-09\n",
      "Quantized (512, 256, 3, 3) to Q8_0 with max error 7.450580596923828e-09\n",
      "Quantized (512, 512, 3, 3) to Q8_0 with max error 7.450580596923828e-09\n",
      "Quantized (512, 256, 1, 1) to Q8_0 with max error 1.4901161193847656e-08\n",
      "Quantized (512, 512, 3, 3) to Q8_0 with max error 7.450580596923828e-09\n",
      "Quantized (512, 512, 3, 3) to Q8_0 with max error 1.4901161193847656e-08\n",
      "Quantized (10, 512) to Q8_0 with max error 3.725290298461914e-09\n",
      "Quantized (10,) to Q8_0 with max error 0.0\n",
      "max quantization group error across all weights: 2.9802322387695312e-08\n",
      "wrote modelq8_1.bin\n",
      "Quantized (64, 3, 7, 7) to Q8_0 with max error 2.9802322387695312e-08\n",
      "Quantized (64, 64, 3, 3) to Q8_0 with max error 0.0020307153463363647\n",
      "Quantized (64, 64, 3, 3) to Q8_0 with max error 0.0015603676438331604\n",
      "Quantized (64, 64, 3, 3) to Q8_0 with max error 0.001995254075154662\n",
      "Quantized (64, 64, 3, 3) to Q8_0 with max error 0.0009455680847167969\n",
      "Quantized (128, 64, 3, 3) to Q8_0 with max error 0.001150965690612793\n",
      "Quantized (128, 128, 3, 3) to Q8_0 with max error 0.0013340264558792114\n",
      "Quantized (128, 64, 1, 1) to Q8_0 with max error 0.0017687082290649414\n",
      "Quantized (128, 128, 3, 3) to Q8_0 with max error 0.0013014227151870728\n",
      "Quantized (128, 128, 3, 3) to Q8_0 with max error 0.001347661018371582\n",
      "Quantized (256, 128, 3, 3) to Q8_0 with max error 0.0012121722102165222\n",
      "Quantized (256, 256, 3, 3) to Q8_0 with max error 0.001104535534977913\n",
      "Quantized (256, 128, 1, 1) to Q8_0 with max error 0.000799892470240593\n",
      "Quantized (256, 256, 3, 3) to Q8_0 with max error 0.0008231215178966522\n",
      "Quantized (256, 256, 3, 3) to Q8_0 with max error 0.0009349463507533073\n",
      "Quantized (512, 256, 3, 3) to Q8_0 with max error 0.0009473636746406555\n",
      "Quantized (512, 512, 3, 3) to Q8_0 with max error 0.0010608397424221039\n",
      "Quantized (512, 256, 1, 1) to Q8_0 with max error 0.002634085714817047\n",
      "Quantized (512, 512, 3, 3) to Q8_0 with max error 0.000762447714805603\n",
      "Quantized (512, 512, 3, 3) to Q8_0 with max error 0.0006969422101974487\n",
      "Quantized (10, 512) to Q8_0 with max error 0.0004251450300216675\n",
      "Quantized (10,) to Q8_0 with max error 0.00010416563600301743\n",
      "max quantization group error across all weights: 0.002634085714817047\n",
      "wrote modelq8_2.bin\n",
      "Done\n"
     ]
    }
   ],
   "source": [
    "test_runfiles()"
   ]
  },
  {
   "cell_type": "code",
   "execution_count": null,
   "id": "d976169d",
   "metadata": {},
   "outputs": [],
   "source": []
  }
 ],
 "metadata": {
  "kernelspec": {
   "display_name": "Python 3 (ipykernel)",
   "language": "python",
   "name": "python3"
  },
  "language_info": {
   "codemirror_mode": {
    "name": "ipython",
    "version": 3
   },
   "file_extension": ".py",
   "mimetype": "text/x-python",
   "name": "python",
   "nbconvert_exporter": "python",
   "pygments_lexer": "ipython3",
   "version": "3.10.0"
  }
 },
 "nbformat": 4,
 "nbformat_minor": 5
}

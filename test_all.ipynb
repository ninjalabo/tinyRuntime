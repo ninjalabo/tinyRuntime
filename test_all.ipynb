{
 "cells": [
  {
   "cell_type": "code",
   "execution_count": 4,
   "id": "9d14bf83",
   "metadata": {},
   "outputs": [],
   "source": [
    "#|export\n",
    "\"\"\"\n",
    "Run simply with\n",
    "$ pytest\n",
    "\"\"\"\n",
    "\n",
    "import os\n",
    "import subprocess\n",
    "import numpy as np\n",
    "import torch\n",
    "import struct\n",
    "\n",
    "from model import Model\n",
    "from export import export_modelq8\n",
    "\n",
    "def test_runfiles():\n",
    "    \"\"\" test run.c and runq.c works with an acceptable tolerance \"\"\"\n",
    "\n",
    "    file_path = \"test/data/MNIST/sorted/7/1012\"\n",
    "    \n",
    "    # run vanilla model in test mode\n",
    "    command = [\"./run\", \"model.bin\", file_path]\n",
    "    with open('err.txt', mode='w') as fe:\n",
    "        with open('stdout.txt', mode='w') as fo:\n",
    "            proc = subprocess.Popen(command, stdout=fo, stderr=fe)\n",
    "            proc.wait()\n",
    "    res = np.loadtxt(\"stdout.txt\")\n",
    "\n",
    "    # run quantized model test with group size = 1 in test mode\n",
    "    export_modelq8(file_path=\"modelq8_1.bin\", gs=1)\n",
    "    command = [\"./runq\", \"modelq8_1.bin\", file_path]\n",
    "    with open('err1.txt', mode='w') as fe:\n",
    "        with open('stdout1.txt', mode='w') as fo:\n",
    "            proc = subprocess.Popen(command, stdout=fo, stderr=fe)\n",
    "            proc.wait()\n",
    "    res1 = np.loadtxt(\"stdout1.txt\")\n",
    "\n",
    "    # run quantized model test with group size = 1 in test mode\n",
    "    export_modelq8(file_path=\"modelq8_2.bin\", gs=2)\n",
    "    command = [\"./runq\", \"modelq8_2.bin\", file_path]\n",
    "    with open('err2.txt', mode='w') as fe:\n",
    "        with open('stdout2.txt', mode='w') as fo:\n",
    "            proc = subprocess.Popen(command, stdout=fo, stderr=fe)\n",
    "            proc.wait()\n",
    "    res2 = np.loadtxt(\"stdout2.txt\")\n",
    "\n",
    "    # retrieve reference values using Python model\n",
    "    model = torch.load(\"model.pt\")\n",
    "    with open(file_path, \"rb\") as f:\n",
    "        image = torch.tensor(struct.unpack('B'*(28*28), f.read(28*28))).view(1,28,28)\n",
    "        image = ((image/255 - 0.5) / 0.5)\n",
    "        ref = model(image).detach()\n",
    "        ref = torch.nn.functional.softmax(ref, dim=1).view(-1).numpy() # python model output\n",
    "\n",
    "    assert np.allclose(res, ref, atol=1e-5, rtol=0), \"run.c: Probabilities are not close.\"\n",
    "    assert np.allclose(res1, ref, atol=1e-5, rtol=0), \"runq.c (group size = 1): Probabilities are not close.\"\n",
    "    assert np.allclose(res2, ref, atol=1e-2, rtol=0), \"runq.c (group size = 2):Probabilities are not close.\"\n"
   ]
  },
  {
   "cell_type": "code",
   "execution_count": 3,
   "id": "a582d8ce",
   "metadata": {},
   "outputs": [
    {
     "name": "stdout",
     "output_type": "stream",
     "text": [
      "1/6 quantized (128, 784) to Q8_0 with max error 1.4901161193847656e-08\n",
      "2/6 quantized (64, 128) to Q8_0 with max error 1.4901161193847656e-08\n",
      "3/6 quantized (10, 64) to Q8_0 with max error 1.4901161193847656e-08\n",
      "4/6 quantized (128,) to Q8_0 with max error 0.0\n",
      "5/6 quantized (64,) to Q8_0 with max error 0.0\n",
      "6/6 quantized (10,) to Q8_0 with max error 0.0\n",
      "max quantization group error across all weights: 1.4901161193847656e-08\n",
      "wrote modelq8_1.bin\n",
      "1/6 quantized (128, 784) to Q8_0 with max error 0.0020293593406677246\n",
      "2/6 quantized (64, 128) to Q8_0 with max error 0.0012124329805374146\n",
      "3/6 quantized (10, 64) to Q8_0 with max error 0.001565396785736084\n",
      "4/6 quantized (128,) to Q8_0 with max error 0.0001729782670736313\n",
      "5/6 quantized (64,) to Q8_0 with max error 0.00040780549170449376\n",
      "6/6 quantized (10,) to Q8_0 with max error 0.00028267502784729004\n",
      "max quantization group error across all weights: 0.0020293593406677246\n",
      "wrote modelq8_2.bin\n"
     ]
    }
   ],
   "source": [
    "test_runfiles()"
   ]
  },
  {
   "cell_type": "code",
   "execution_count": null,
   "id": "5f291f26",
   "metadata": {},
   "outputs": [],
   "source": []
  }
 ],
 "metadata": {
  "kernelspec": {
   "display_name": "Python 3 (ipykernel)",
   "language": "python",
   "name": "python3"
  },
  "language_info": {
   "codemirror_mode": {
    "name": "ipython",
    "version": 3
   },
   "file_extension": ".py",
   "mimetype": "text/x-python",
   "name": "python",
   "nbconvert_exporter": "python",
   "pygments_lexer": "ipython3",
   "version": "3.10.0"
  }
 },
 "nbformat": 4,
 "nbformat_minor": 5
}

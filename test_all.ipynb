{
 "cells": [
  {
   "cell_type": "code",
   "execution_count": 47,
   "id": "9d14bf83",
   "metadata": {},
   "outputs": [],
   "source": [
    "#|export\n",
    "\"\"\"\n",
    "Run simply with\n",
    "$ pytest\n",
    "\"\"\"\n",
    "\n",
    "import os\n",
    "import subprocess\n",
    "import numpy as np\n",
    "import torch\n",
    "import struct\n",
    "\n",
    "from model import Model\n",
    "from export import export_modelq8\n",
    "\n",
    "def test_runfiles():\n",
    "    \"\"\" test run.c and runq.c works with an acceptable tolerance \"\"\"\n",
    "\n",
    "    file_path = \"test/data/MNIST/sorted/7/1012\"\n",
    "    d = \"test_outputs\"\n",
    "    os.makedirs(d, exist_ok=True)\n",
    "    # run vanilla model in test mode\n",
    "    err = os.path.join(d, 'err.txt')\n",
    "    stdout = os.path.join(d, 'stdout.txt')\n",
    "    command = [\"./run\", \"model.bin\", file_path]\n",
    "    with open(err, mode='w') as fe:\n",
    "        with open(stdout, mode='w') as fo:\n",
    "            proc = subprocess.Popen(command, stdout=fo, stderr=fe)\n",
    "            proc.wait()\n",
    "    res = np.loadtxt(stdout)\n",
    "\n",
    "    # run quantized model test with group size = 1 in test mode\n",
    "    err1 = os.path.join(d, 'err1.txt')\n",
    "    stdout1 = os.path.join(d, 'stdout1.txt')\n",
    "    export_modelq8(file_path=\"modelq8_1.bin\", gs=1)\n",
    "    command = [\"./runq\", \"modelq8_1.bin\", file_path]\n",
    "    with open(err1, mode='w') as fe:\n",
    "        with open(stdout1, mode='w') as fo:\n",
    "            proc = subprocess.Popen(command, stdout=fo, stderr=fe)\n",
    "            proc.wait()\n",
    "    res1 = np.loadtxt(stdout1)\n",
    "\n",
    "    # run quantized model test with group size = 1 in test mode\n",
    "    err2 = os.path.join(d, 'err2.txt')\n",
    "    stdout2 = os.path.join(d, 'stdout2.txt')\n",
    "    export_modelq8(file_path=\"modelq8_2.bin\", gs=2)\n",
    "    command = [\"./runq\", \"modelq8_2.bin\", file_path]\n",
    "    with open(err2, mode='w') as fe:\n",
    "        with open(stdout2, mode='w') as fo:\n",
    "            proc = subprocess.Popen(command, stdout=fo, stderr=fe)\n",
    "            proc.wait()\n",
    "    res2 = np.loadtxt(stdout2)\n",
    "\n",
    "    # retrieve reference values using Python model\n",
    "    model = torch.load(\"model.pt\")\n",
    "    with open(file_path, \"rb\") as f:\n",
    "        image = torch.tensor(struct.unpack('B'*(28*28), f.read(28*28))).view(1,1,28,28)\n",
    "        image = ((image/255 - 0.5) / 0.5)\n",
    "        ref = model(image).detach()\n",
    "        ref = torch.nn.functional.softmax(ref, dim=1).view(-1).numpy() # python model output\n",
    "\n",
    "    assert np.allclose(res, ref, atol=1e-5, rtol=0), \"run.c: Probabilities are not close.\"\n",
    "    assert np.allclose(res1, ref, atol=1e-5, rtol=0), \"runq.c (group size = 1): Probabilities are not close.\"\n",
    "    assert np.allclose(res2, ref, atol=1e-2, rtol=0), \"runq.c (group size = 2):Probabilities are not close.\""
   ]
  },
  {
   "cell_type": "code",
   "execution_count": 48,
   "id": "a582d8ce",
   "metadata": {},
   "outputs": [
    {
     "name": "stdout",
     "output_type": "stream",
     "text": [
      "Quantized (4, 1, 3, 3) to Q8_0 with max error 0.0\n",
      "Quantized (4,) to Q8_0 with max error 0.0\n",
      "Quantized (8, 4, 3, 3) to Q8_0 with max error 0.0\n",
      "Quantized (8,) to Q8_0 with max error 0.0\n",
      "Quantized (128, 392) to Q8_0 with max error 1.4901161193847656e-08\n",
      "Quantized (128,) to Q8_0 with max error 0.0\n",
      "Quantized (10, 128) to Q8_0 with max error 1.4901161193847656e-08\n",
      "Quantized (10,) to Q8_0 with max error 0.0\n",
      "max quantization group error across all weights: 1.4901161193847656e-08\n",
      "wrote modelq8_1.bin\n",
      "Quantized (4, 1, 3, 3) to Q8_0 with max error 0.0\n",
      "Quantized (4,) to Q8_0 with max error 0.0004273931263014674\n",
      "Quantized (8, 4, 3, 3) to Q8_0 with max error 0.0014624577015638351\n",
      "Quantized (8,) to Q8_0 with max error 0.0003366917371749878\n",
      "Quantized (128, 392) to Q8_0 with max error 0.0011674314737319946\n",
      "Quantized (128,) to Q8_0 with max error 0.00028119422495365143\n",
      "Quantized (10, 128) to Q8_0 with max error 0.001100301742553711\n",
      "Quantized (10,) to Q8_0 with max error 0.00023248419165611267\n",
      "max quantization group error across all weights: 0.0014624577015638351\n",
      "wrote modelq8_2.bin\n"
     ]
    }
   ],
   "source": [
    "test_runfiles()"
   ]
  },
  {
   "cell_type": "code",
   "execution_count": null,
   "id": "f876007f",
   "metadata": {},
   "outputs": [],
   "source": []
  }
 ],
 "metadata": {
  "kernelspec": {
   "display_name": "Python 3 (ipykernel)",
   "language": "python",
   "name": "python3"
  },
  "language_info": {
   "codemirror_mode": {
    "name": "ipython",
    "version": 3
   },
   "file_extension": ".py",
   "mimetype": "text/x-python",
   "name": "python",
   "nbconvert_exporter": "python",
   "pygments_lexer": "ipython3",
   "version": "3.10.0"
  }
 },
 "nbformat": 4,
 "nbformat_minor": 5
}
